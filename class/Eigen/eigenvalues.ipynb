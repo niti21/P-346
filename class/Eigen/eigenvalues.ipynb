{
 "cells": [
  {
   "cell_type": "code",
   "execution_count": 46,
   "id": "33330c1e-64b2-49a2-9646-71cc49bf712c",
   "metadata": {},
   "outputs": [],
   "source": [
    "\n",
    "def mat_mul(A,B):\n",
    "    if len(A[0]) == len(B):\n",
    "        a = list(A)\n",
    "        b = list(B)\n",
    "        R = []\n",
    "        res = [[0 for x in range(len(b[0]))]\n",
    "             for y in range(len(a))]\n",
    "        for i in range(0,len(a)):\n",
    "            s1 = 0\n",
    "            for j in range(0, len(b[0])):\n",
    "                for k in range(0,len(b)):\n",
    "                    s1 += a[i][k]*b[k][j]\n",
    "                res[i][j] = s1\n",
    "        for r in res:\n",
    "            R.append(r)\n",
    "        return R\n",
    "    else:\n",
    "        print('Incompatible Matrices!')\n",
    "\n",
    "def dot(A,B):\n",
    "    res = 0\n",
    "    for i in range(0,len(A)):\n",
    "        for j in range(0, len(B[0])):\n",
    "            res += A[i][j]*B[i][j]\n",
    "    return res\n",
    "\n",
    "x0 = [[1], [2],[3]]       \n",
    "A = [[1, -1, 0], [-2,4,-2], [0, -1, 2]]\n",
    "\n",
    "#print(mat_mul(A,x0))\n",
    "\n",
    "#dot(A,x0)\n"
   ]
  },
  {
   "cell_type": "code",
   "execution_count": 47,
   "id": "dfd76209-b3c3-4033-884c-62421340930f",
   "metadata": {},
   "outputs": [],
   "source": [
    "import math\n",
    "\n",
    "def Evalue(A, x):\n",
    "    k = 1\n",
    "    xk1 = x[:]\n",
    "    xk2 = mat_mul(A,xk1)\n",
    "    e1 = 0\n",
    "    e2 = dot(xk2,x)/dot(xk1,x)\n",
    "    t = 0\n",
    "    while abs(e1-e2) > 10**(-3) and k < 50:\n",
    "        e1 = e2\n",
    "        xk1 = xk2\n",
    "        xk2 = mat_mul(A,xk1)\n",
    "        e2 = dot(xk2,x)/dot(xk1,x)\n",
    "        k = k + 1\n",
    "        t = t + 1\n",
    "    ev = []\n",
    "    n = 0\n",
    "    \n",
    "    for i in range(len(xk2)):\n",
    "        n = n + xk2[i][0]**2\n",
    "    n = math.sqrt(n)\n",
    "    for i in range(len(xk2)):\n",
    "        ev.append(xk2[i][0]/n)\n",
    "        ev[i] = (ev[i]*10**3)/10**3\n",
    "    e = (e2*10**3)/10**3\n",
    "    return e,ev,t\n"
   ]
  },
  {
   "cell_type": "code",
   "execution_count": 48,
   "id": "ebc26d86-6dd7-4dc0-a903-1d51b78b191a",
   "metadata": {},
   "outputs": [
    {
     "name": "stdout",
     "output_type": "stream",
     "text": [
      "Dominant eigen value:  5.125204229339887\n",
      "Eigen vector:  [0.2249734376997738, -0.9280032773913418, 0.2969795775478079]\n",
      "Iterations:  11\n"
     ]
    }
   ],
   "source": [
    "A = [[1, -1, 0], [-2, 4,-2], [0, -1, 2]]\n",
    "x0 = [[1], [2],[3]]\n",
    "EVal,EF,It = Evalue(A, x0)\n",
    "print('Dominant eigen value: ',EVal)\n",
    "print('Eigen vector: ', EF)\n",
    "print('Iterations: ', It)"
   ]
  }
 ],
 "metadata": {
  "kernelspec": {
   "display_name": "Python 3",
   "language": "python",
   "name": "python3"
  },
  "language_info": {
   "codemirror_mode": {
    "name": "ipython",
    "version": 3
   },
   "file_extension": ".py",
   "mimetype": "text/x-python",
   "name": "python",
   "nbconvert_exporter": "python",
   "pygments_lexer": "ipython3",
   "version": "3.8.8"
  }
 },
 "nbformat": 4,
 "nbformat_minor": 5
}
