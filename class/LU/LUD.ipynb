{
 "cells": [
  {
   "cell_type": "code",
   "execution_count": 9,
   "id": "ae128db2",
   "metadata": {},
   "outputs": [
    {
     "name": "stdout",
     "output_type": "stream",
     "text": [
      "[[4, 12, -16], [12, 37, -43], [-16, -43, 98]]\n",
      "[[2.0, 0, 0], [0, 0, 0], [0, 0, 0]]\n",
      "2.0\n",
      "[[2.0, 0, 0], [0, 0, 0], [0, 0, 0]]\n",
      "6.0\n",
      "[[2.0, 6.0, 0], [0, 0, 0], [0, 0, 0]]\n",
      "-8.0\n",
      "[[2.0, 6.0, -8.0], [0, 6.08, 0], [0, 0, 0]]\n",
      "6.08\n",
      "[[2.0, 6.0, -8.0], [0, 6.08, 0], [0, 0, 0]]\n",
      "-0.0\n",
      "[[2.0, 6.0, -8.0], [0, 6.08, -0.0], [0, 0, 9.9]]\n",
      "9.9\n",
      "[[2.0, 6.0, -8.0], [0, 6.08, -0.0], [0, 0, 9.9]]\n"
     ]
    }
   ],
   "source": [
    "import math\n",
    "from math import sqrt\n",
    "with open('a1.txt', 'r') as x:\n",
    "    a = [[int(m) for m in line.split(',')] for line in x]\n",
    "    print(a) \n",
    "     \n",
    "p= len(a)    \n",
    "q= len(a[0])\n",
    "s1 = 0\n",
    "s2 = 0\n",
    "l = [[0 for i in range(0,len(a[0]))] for j in range(len(a))] \n",
    "for i in range(0,p): \n",
    "    for j in range(i,q):    \n",
    "        s1 = s1 + (l[i][j])**2\n",
    "        l[i][i]= round(math.sqrt(a[i][i] - s1),2)\n",
    "        print (l) \n",
    "        if i<j:\n",
    "            for k in range(0,p):\n",
    "                s2 = s2 + l[i][k]*l[k][j]\n",
    "                l[i][j] =round((a[i][j] - s2 )/(l[i][i]),2)\n",
    "        print (l[i][j])            \n",
    "print (l)  \n",
    "    "
   ]
  },
  {
   "cell_type": "code",
   "execution_count": 2,
   "id": "ad377826",
   "metadata": {},
   "outputs": [
    {
     "name": "stdout",
     "output_type": "stream",
     "text": [
      "[[4, 12, -16], [12, 37, -43], [-16, -43, 98]]\n"
     ]
    },
    {
     "ename": "TypeError",
     "evalue": "can't multiply sequence by non-int of type 'float'",
     "output_type": "error",
     "traceback": [
      "\u001b[1;31m---------------------------------------------------------------------------\u001b[0m",
      "\u001b[1;31mTypeError\u001b[0m                                 Traceback (most recent call last)",
      "\u001b[1;32m<ipython-input-2-daea88af05f7>\u001b[0m in \u001b[0;36m<module>\u001b[1;34m\u001b[0m\n\u001b[0;32m     15\u001b[0m             \u001b[1;32mif\u001b[0m \u001b[0ma\u001b[0m\u001b[1;33m[\u001b[0m\u001b[0mi\u001b[0m\u001b[1;33m]\u001b[0m\u001b[1;33m[\u001b[0m\u001b[0mk\u001b[0m\u001b[1;33m]\u001b[0m \u001b[1;33m!=\u001b[0m \u001b[1;36m0.0\u001b[0m\u001b[1;33m:\u001b[0m\u001b[1;33m\u001b[0m\u001b[1;33m\u001b[0m\u001b[0m\n\u001b[0;32m     16\u001b[0m                 \u001b[0ml1\u001b[0m \u001b[1;33m=\u001b[0m \u001b[0ma\u001b[0m \u001b[1;33m[\u001b[0m\u001b[0mi\u001b[0m\u001b[1;33m]\u001b[0m\u001b[1;33m[\u001b[0m\u001b[0mk\u001b[0m\u001b[1;33m]\u001b[0m\u001b[1;33m/\u001b[0m\u001b[0ma\u001b[0m\u001b[1;33m[\u001b[0m\u001b[0mk\u001b[0m\u001b[1;33m]\u001b[0m\u001b[1;33m[\u001b[0m\u001b[0mk\u001b[0m\u001b[1;33m]\u001b[0m\u001b[1;33m\u001b[0m\u001b[1;33m\u001b[0m\u001b[0m\n\u001b[1;32m---> 17\u001b[1;33m                 \u001b[0ma\u001b[0m\u001b[1;33m[\u001b[0m\u001b[0mi\u001b[0m\u001b[1;33m]\u001b[0m\u001b[1;33m[\u001b[0m\u001b[0mk\u001b[0m\u001b[1;33m+\u001b[0m\u001b[1;36m1\u001b[0m\u001b[1;33m:\u001b[0m\u001b[0mp\u001b[0m\u001b[1;33m]\u001b[0m \u001b[1;33m=\u001b[0m \u001b[0ma\u001b[0m\u001b[1;33m[\u001b[0m\u001b[0mi\u001b[0m\u001b[1;33m]\u001b[0m\u001b[1;33m[\u001b[0m\u001b[0mk\u001b[0m\u001b[1;33m+\u001b[0m\u001b[1;36m1\u001b[0m\u001b[1;33m:\u001b[0m\u001b[0mp\u001b[0m\u001b[1;33m]\u001b[0m \u001b[1;33m-\u001b[0m \u001b[0ml1\u001b[0m\u001b[1;33m*\u001b[0m\u001b[0ma\u001b[0m\u001b[1;33m[\u001b[0m\u001b[0mk\u001b[0m\u001b[1;33m]\u001b[0m\u001b[1;33m[\u001b[0m\u001b[0mk\u001b[0m\u001b[1;33m+\u001b[0m\u001b[1;36m1\u001b[0m\u001b[1;33m:\u001b[0m\u001b[0mp\u001b[0m\u001b[1;33m]\u001b[0m\u001b[1;33m\u001b[0m\u001b[1;33m\u001b[0m\u001b[0m\n\u001b[0m\u001b[0;32m     18\u001b[0m                 \u001b[0ma\u001b[0m\u001b[1;33m[\u001b[0m\u001b[0mi\u001b[0m\u001b[1;33m]\u001b[0m\u001b[1;33m[\u001b[0m\u001b[0mk\u001b[0m\u001b[1;33m]\u001b[0m \u001b[1;33m=\u001b[0m \u001b[0ml1\u001b[0m\u001b[1;33m\u001b[0m\u001b[1;33m\u001b[0m\u001b[0m\n\u001b[0;32m     19\u001b[0m         \u001b[0mprint\u001b[0m \u001b[1;33m(\u001b[0m\u001b[0ma\u001b[0m\u001b[1;33m)\u001b[0m\u001b[1;33m\u001b[0m\u001b[1;33m\u001b[0m\u001b[0m\n",
      "\u001b[1;31mTypeError\u001b[0m: can't multiply sequence by non-int of type 'float'"
     ]
    }
   ],
   "source": [
    "import math\n",
    "from math import sqrt\n",
    "with open('a1.txt', 'r') as x:\n",
    "    a = [[int(m) for m in line.split(',')] for line in x]\n",
    "    print(a) \n",
    "     \n",
    "p= len(a)    \n",
    "q= len(a[0])\n",
    "s1 = 0\n",
    "s2 = 0\n",
    "l = [[0 for i in range(0,len(a[0]))] for j in range(len(a))] \n",
    "\n",
    "for k in range(0,p-1):\n",
    "        for i in range(k+1,p):\n",
    "            if a[i][k] != 0.0:\n",
    "                l1 = a [i][k]/a[k][k]\n",
    "                a[i][k+1:p] = a[i][k+1:p] - l1*a[k][k+1:p]\n",
    "                a[i][k] = l1\n",
    "        print (a)"
   ]
  }
 ],
 "metadata": {
  "kernelspec": {
   "display_name": "Python 3",
   "language": "python",
   "name": "python3"
  },
  "language_info": {
   "codemirror_mode": {
    "name": "ipython",
    "version": 3
   },
   "file_extension": ".py",
   "mimetype": "text/x-python",
   "name": "python",
   "nbconvert_exporter": "python",
   "pygments_lexer": "ipython3",
   "version": "3.8.8"
  }
 },
 "nbformat": 4,
 "nbformat_minor": 5
}
