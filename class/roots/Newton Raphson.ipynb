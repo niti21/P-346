{
 "cells": [
  {
   "cell_type": "code",
   "execution_count": 18,
   "id": "348b4fdd-ef22-4a0d-bbb9-4b0e41290350",
   "metadata": {},
   "outputs": [
    {
     "name": "stdout",
     "output_type": "stream",
     "text": [
      "Root:  0.8654740331016162\n",
      "No. of iterations: 4\n"
     ]
    }
   ],
   "source": [
    "import math\n",
    "def f(q):\n",
    "    y = math.cos(q)-(q**3)\n",
    "    return y\n",
    "def derivF(q):\n",
    "    y = -math.sin(q)-(3*(q**2))\n",
    "    return y\n",
    "# Function to find the root\n",
    "def newtonRaphson(q):\n",
    "    t=0\n",
    "    h = f(q) / derivF(q)\n",
    "    while abs(h) >= 0.000001:\n",
    "        h = f(q)/derivF(q)\n",
    "        # x(i+1) = x(i) - (f(x) / f'(x))\n",
    "        q = q - h\n",
    "        t=t+1\n",
    "     \n",
    "    print(\"Root: \", q)\n",
    "    print(\"No. of iterations:\", t)\n",
    "x = 1 # Initial values assumed\n",
    "newtonRaphson(x)"
   ]
  },
  {
   "cell_type": "code",
   "execution_count": null,
   "id": "e8c3a946-77bd-4cc3-b1c1-72ada07e0d49",
   "metadata": {},
   "outputs": [],
   "source": []
  }
 ],
 "metadata": {
  "kernelspec": {
   "display_name": "Python 3",
   "language": "python",
   "name": "python3"
  },
  "language_info": {
   "codemirror_mode": {
    "name": "ipython",
    "version": 3
   },
   "file_extension": ".py",
   "mimetype": "text/x-python",
   "name": "python",
   "nbconvert_exporter": "python",
   "pygments_lexer": "ipython3",
   "version": "3.8.8"
  }
 },
 "nbformat": 4,
 "nbformat_minor": 5
}
