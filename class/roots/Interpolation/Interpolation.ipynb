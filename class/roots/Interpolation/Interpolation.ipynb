{
 "cells": [
  {
   "cell_type": "code",
   "execution_count": 1,
   "id": "b14fb2c3",
   "metadata": {},
   "outputs": [],
   "source": [
    "#def interpolation(d, x):\n",
    "    #output = d[0][1] + (x - d[0][0]) * ((d[1][1] - d[0][1])/(d[1][0] - d[0][0]))\n",
    "    #return output"
   ]
  },
  {
   "cell_type": "code",
   "execution_count": 134,
   "id": "fc0545c4-10db-4b71-a027-bc3a9e35b8b8",
   "metadata": {},
   "outputs": [
    {
     "name": "stdout",
     "output_type": "stream",
     "text": [
      "4 : 20.0\n"
     ]
    }
   ],
   "source": [
    "def inter1p(x):\n",
    "    s=0\n",
    "    a = [2,3,5,8,12]\n",
    "    b = [10,15,25,40,60]\n",
    "    l = len(a)\n",
    "    m = (b[l-1]-b[1])/(a[l-1]-a[1])\n",
    "    y = m*x + 0\n",
    "    print (x,':',y)\n",
    "inter1p(4)\n",
    "            \n",
    "        "
   ]
  },
  {
   "cell_type": "code",
   "execution_count": 3,
   "id": "da537dc7-2384-4118-85f5-4038c39c952c",
   "metadata": {},
   "outputs": [
    {
     "name": "stdout",
     "output_type": "stream",
     "text": [
      "4 : 20.0\n",
      "5 [2, 3, 5, 8, 12] [10, 15, 25, 40, 60]\n",
      "15 : 50.0\n",
      "4 [0, 10, 20, 30] [-250, 0, 50, -100]\n",
      "1969 : 4.168\n",
      "3 [1951, 1961, 1971] [2.8, 3.2, 4.5]\n"
     ]
    }
   ],
   "source": [
    "def interpolate(a,b,x):\n",
    "    s = 0\n",
    "    l = len(a)\n",
    "    for i in range(l):\n",
    "        p = 1\n",
    "        for k in range(l):\n",
    "            if k != i:\n",
    "                p *= ((x - a[k])/(a[i]-a[k]))\n",
    "        s+=p*b[i]\n",
    "    print (x,':', s)\n",
    "    print(l,a,b)\n",
    "    \n",
    "\n",
    "x = [2,3,5,8,12]\n",
    "y = [10,15,25,40,60]\n",
    "interpolate(x,y,4)\n",
    "\n",
    "a = [0,10,20,30]\n",
    "b = [-250,0,50,-100]\n",
    "interpolate(a,b,15)\n",
    "\n",
    "p = [1951,1961,1971]\n",
    "q = [2.8,3.2,4.5]\n",
    "interpolate(p,q,1969)"
   ]
  }
 ],
 "metadata": {
  "kernelspec": {
   "display_name": "Python 3",
   "language": "python",
   "name": "python3"
  },
  "language_info": {
   "codemirror_mode": {
    "name": "ipython",
    "version": 3
   },
   "file_extension": ".py",
   "mimetype": "text/x-python",
   "name": "python",
   "nbconvert_exporter": "python",
   "pygments_lexer": "ipython3",
   "version": "3.8.8"
  }
 },
 "nbformat": 4,
 "nbformat_minor": 5
}
