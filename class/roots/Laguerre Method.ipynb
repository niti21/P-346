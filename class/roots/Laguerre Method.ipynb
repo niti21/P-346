{
 "cells": [
  {
   "cell_type": "code",
   "execution_count": 106,
   "id": "93ad3319-de34-4244-9a0b-c1c713e7c49c",
   "metadata": {},
   "outputs": [
    {
     "name": "stdout",
     "output_type": "stream",
     "text": [
      "[1, 2, -7, 1, 6]\n",
      "[1, 2, -1, 1, 6]\n",
      "[1, 2, -1, -2, 6]\n",
      "[1, 2, -1, -2, 0]\n",
      "\n",
      "[1, 0, -1, -2, 0]\n",
      "[1, 0, -1, -2, 0]\n",
      "[1, 0, -1, 0, 0]\n",
      "[1, 0, -1, 0, 0]\n",
      "-2\n",
      "[1, -1, -1, 0, 0]\n",
      "[1, -1, 0, 0, 0]\n",
      "[1, -1, 0, 0, 0]\n",
      "[1, -1, 0, 0, 0]\n",
      "-1\n"
     ]
    },
    {
     "data": {
      "text/plain": [
       "[1, -1, 0, 0, 0]"
      ]
     },
     "execution_count": 106,
     "metadata": {},
     "output_type": "execute_result"
    }
   ],
   "source": [
    "def deflate(c,x):\n",
    "    root = x\n",
    "    #c=[1,-1,-7, 1, 6]\n",
    "    k = len(c)\n",
    "    for i in range (0,k-1):\n",
    "        c[i+1] = c[i+1]+ root*c[i]  \n",
    "        print (c) \n",
    "    return c\n",
    "def def2(c):\n",
    "    for a in range(k-1,2,-1):\n",
    "        if c[a]==0:\n",
    "            x = c[a-1]\n",
    "        d = deflate(c,x)\n",
    "        print(x)\n",
    "    return d\n",
    "c=[1,-1,-7, 1, 6]\n",
    "k = len(c)\n",
    "d = deflate(c, 3)\n",
    "print()\n",
    "def2(d)\n",
    "    \n",
    "    \n",
    "\n"
   ]
  },
  {
   "cell_type": "code",
   "execution_count": 111,
   "id": "736a2d85-dbbd-4b25-bf04-db327751f4df",
   "metadata": {},
   "outputs": [
    {
     "name": "stdout",
     "output_type": "stream",
     "text": [
      "1st derivative: [0, 1, -14, -3, 4]\n",
      "\n",
      "2nd derivative: [0, 0, -14, -6, 12]\n"
     ]
    }
   ],
   "source": [
    "def df(c1):\n",
    "    l = len(c1)\n",
    "    for i in range (0,l):\n",
    "        c1[i]= c1[i]*i\n",
    "        cf = c1\n",
    "    print ('1st derivative:',cf)\n",
    "    return cf\n",
    "def d2f(c2):\n",
    "    for i in range (1,l+2):\n",
    "        c2[i]= c2[i]*(i-1)\n",
    "    return c2\n",
    "\n",
    "c1 = [6,1,-7,-1,1]\n",
    "cf = df(c1)\n",
    "print ()\n",
    "print('2nd derivative:',d2f(cf))"
   ]
  },
  {
   "cell_type": "code",
   "execution_count": 93,
   "id": "943f2834-bbeb-475c-b218-6c34053569ab",
   "metadata": {},
   "outputs": [
    {
     "name": "stdout",
     "output_type": "stream",
     "text": [
      "Root:  3.0\n",
      "No. of iterations: 5\n",
      "Root:  -1.9999999983599648\n",
      "No. of iterations: 3\n",
      "Root:  -1.0\n",
      "No. of iterations: 5\n",
      "Root:  1.0000000000000013\n",
      "No. of iterations: 3\n"
     ]
    }
   ],
   "source": [
    "import math\n",
    "def f(q):\n",
    "    y = (q**4) - (q**3)-7*(q**2) + q + 6\n",
    "    return y\n",
    "def derivF(q):\n",
    "    y = 4*(q**3)- 3*(q**2) -14*(q) + 1\n",
    "    return y\n",
    "def deriv2F(q):\n",
    "    y = 12*(q**2)- 6*(q) -14 \n",
    "    return y\n",
    "\n",
    "def laguerreMethod(x0, n, e):\n",
    "    xk = x0\n",
    "    t=0\n",
    "    while abs(f(xk)) > e:\n",
    "        G = derivF(xk) / f(xk)\n",
    "        H = (G ** 2) - deriv2F(xk) / f(xk)\n",
    "        root = math.sqrt((n - 1) * (n * H - G ** 2))\n",
    "        d = max(abs(G + root), abs(G - root))\n",
    "        a = n / d\n",
    "        xk = xk - a\n",
    "        t=t+1\n",
    "    print(\"Root: \", xk)\n",
    "    print(\"No. of iterations:\", t)\n",
    "x = 10 # Initial values assumed\n",
    "e = 0.000001\n",
    "i=30\n",
    "laguerreMethod(x , i, e )\n",
    "x = -1.5 # Initial values assumed\n",
    "e = 0.000001\n",
    "i = 10\n",
    "laguerreMethod(x , i, e )\n",
    "x = 0.5 # Initial values assumed\n",
    "e = 0.000001\n",
    "i = 10\n",
    "laguerreMethod(x , i, e )\n",
    "x = 1.5 # Initial values assumed\n",
    "e = 0.000001\n",
    "i = 10\n",
    "laguerreMethod(x , i, e )"
   ]
  },
  {
   "cell_type": "code",
   "execution_count": null,
   "id": "4ec35778-1791-4a52-a04b-6930397d4631",
   "metadata": {},
   "outputs": [],
   "source": []
  },
  {
   "cell_type": "code",
   "execution_count": null,
   "id": "9e8fe6b4-b4a2-4eb4-8d29-7aaf5be0366f",
   "metadata": {},
   "outputs": [],
   "source": []
  }
 ],
 "metadata": {
  "kernelspec": {
   "display_name": "Python 3",
   "language": "python",
   "name": "python3"
  },
  "language_info": {
   "codemirror_mode": {
    "name": "ipython",
    "version": 3
   },
   "file_extension": ".py",
   "mimetype": "text/x-python",
   "name": "python",
   "nbconvert_exporter": "python",
   "pygments_lexer": "ipython3",
   "version": "3.8.8"
  }
 },
 "nbformat": 4,
 "nbformat_minor": 5
}
