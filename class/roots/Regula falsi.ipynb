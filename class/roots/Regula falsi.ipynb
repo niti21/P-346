{
 "cells": [
  {
   "cell_type": "code",
   "execution_count": 58,
   "id": "348b4fdd-ef22-4a0d-bbb9-4b0e41290350",
   "metadata": {},
   "outputs": [
    {
     "name": "stdout",
     "output_type": "stream",
     "text": [
      "\n",
      "Wrong interval\n",
      "\n",
      "Wrong interval\n",
      "\n",
      "Wrong interval\n",
      "\n",
      "Wrong interval\n",
      "\n",
      "Wrong interval\n",
      "\n",
      "Wrong interval\n",
      "\n",
      "Wrong interval\n",
      "\n",
      "Wrong interval\n",
      "\n",
      "Wrong interval\n",
      "\n",
      "Wrong interval\n",
      "\n",
      "Wrong interval\n",
      "\n",
      "0.7999999999999993 0.18470670934716737\n",
      "5 -124.71633781453677\n",
      "Roots :    8.65E-01 at:    5.70E-06\n",
      "\n",
      "Steps:  12\n",
      "-1.5 3.445737201667703\n",
      "1.5 -3.304262798332297\n",
      "Roots :    8.65E-01 at:    1.11E-16\n"
     ]
    }
   ],
   "source": [
    "import math\n",
    "def f(q):\n",
    "    y = math.cos(q)-(q**3)\n",
    "    return y\n",
    "n = 100\n",
    "# For root of f2(q) in interval [a, b]\n",
    "def bracket(a,b):\n",
    "    t=0\n",
    "    while (f(a)*f(b)>=0):\n",
    "        t=t+1\n",
    "        if (abs(f(a)) < abs(f(b))):\n",
    "            a=a-0.1\n",
    "        if (abs(f(a)) > abs(f(b))):\n",
    "            b= b+0.1\n",
    "        print()\n",
    "        regulaFalsi(a,b)\n",
    "    print()\n",
    "    print('Steps: ',t)\n",
    "def regulaFalsi(a,b):\n",
    "    if f(a) * f(b) >= 0:\n",
    "        print(\"Wrong interval\")\n",
    "        return -1\n",
    "    o=0 \n",
    "    c = a \n",
    "    print (a, f(a))\n",
    "    print (b, f(b)) \n",
    "    for i in range(n):\n",
    "        #point touching x axis\n",
    "        c = (b - ((b - a) * f(b))/ (f(b) - f(a))) \n",
    "        # Find root\n",
    "        if f(c) == 0.0001:\n",
    "            break\n",
    "        elif f(c) * f(a) < 0:\n",
    "            b = c\n",
    "        else:\n",
    "            a = c\n",
    "    print(\"Roots : \" , '%10.2E' %c, 'at: ', '%10.2E' %f(c) )\n",
    "bracket(2,5)\n",
    "regulaFalsi(-1.5,1.5)"
   ]
  },
  {
   "cell_type": "code",
   "execution_count": null,
   "id": "92dd6df3-0e57-4b71-92c9-4feacf51c3af",
   "metadata": {},
   "outputs": [],
   "source": []
  },
  {
   "cell_type": "code",
   "execution_count": null,
   "id": "268db2fd-7964-422c-a96e-d7c576e62ba5",
   "metadata": {},
   "outputs": [],
   "source": []
  }
 ],
 "metadata": {
  "kernelspec": {
   "display_name": "Python 3",
   "language": "python",
   "name": "python3"
  },
  "language_info": {
   "codemirror_mode": {
    "name": "ipython",
    "version": 3
   },
   "file_extension": ".py",
   "mimetype": "text/x-python",
   "name": "python",
   "nbconvert_exporter": "python",
   "pygments_lexer": "ipython3",
   "version": "3.8.8"
  }
 },
 "nbformat": 4,
 "nbformat_minor": 5
}
