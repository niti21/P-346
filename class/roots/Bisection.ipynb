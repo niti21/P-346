{
 "cells": [
  {
   "cell_type": "code",
   "execution_count": 37,
   "id": "d7cfc3c5",
   "metadata": {},
   "outputs": [
    {
     "name": "stdout",
     "output_type": "stream",
     "text": [
      "-1.5 -1.6414744033354058\n",
      "1.5 1.3585255966645942\n",
      "1.025390625\n"
     ]
    }
   ],
   "source": [
    "import math\n",
    "def f1(p):\n",
    "    return p-2*math.cos(p)\n",
    "\n",
    "def bisection(a,b):\n",
    "    if (f1(a)*f1(b)>=0):\n",
    "        print('wrong interval')\n",
    "    c = a\n",
    "    print (a, f1(a))\n",
    "    print (b, f1(b))\n",
    "    while ((b-a)>= 0.01):\n",
    "        c=(a+b)/2\n",
    "        if (f1(c)==0):\n",
    "            break\n",
    "        if (f1(c)*f1(a)<0):\n",
    "            b=c\n",
    "        else:\n",
    "            a=c\n",
    "    print (c)\n",
    "    \n",
    "a = -1.5\n",
    "b = 1.5\n",
    "bisection(-1.5,1.5)"
   ]
  },
  {
   "cell_type": "code",
   "execution_count": 26,
   "id": "d2799a27-4e9e-4953-8e91-8fcddd021193",
   "metadata": {},
   "outputs": [
    {
     "name": "stdout",
     "output_type": "stream",
     "text": [
      "0.861328125\n"
     ]
    }
   ],
   "source": [
    "import math\n",
    "def f2(q):\n",
    "    return math.cos(q)-(q**3)\n",
    "\n",
    "def bisection(a,b):\n",
    "    if (f2(a)*f2(b)>=0):\n",
    "        print('wrong interval')\n",
    "    c = a\n",
    "    while ((b-a)>= 0.01):\n",
    "        c=(a+b)/2\n",
    "        if (f2(c)==0):\n",
    "            break\n",
    "        if (f2(c)*f2(a)<0):\n",
    "            b=c\n",
    "        else:\n",
    "            a=c\n",
    "    print (c)\n",
    "    \n",
    "a = -1.5\n",
    "b = 1.5\n",
    "bisection(-1.5,1.5)"
   ]
  },
  {
   "cell_type": "code",
   "execution_count": 27,
   "id": "d6711c0d-ed01-4548-9155-6d58b05451be",
   "metadata": {},
   "outputs": [
    {
     "name": "stdout",
     "output_type": "stream",
     "text": [
      "0.357421875\n"
     ]
    }
   ],
   "source": [
    "import math\n",
    "\n",
    "def f3(r):\n",
    "    return 3*r+math.sin(r)-math.exp(r)\n",
    "\n",
    "def bisection(a,b):\n",
    "    if (f3(a)*f3(b)>=0):\n",
    "        print('wrong interval')\n",
    "    c = a\n",
    "    while ((b-a)>= 0.01):\n",
    "        c=(a+b)/2\n",
    "        if (f3(c)==0):\n",
    "            break\n",
    "        if (f3(c)*f3(a)<0):\n",
    "            b=c\n",
    "        else:\n",
    "            a=c\n",
    "    print (c)\n",
    "    \n",
    "a = -1.5\n",
    "b = 1.5\n",
    "bisection(-1.5,1.5)"
   ]
  },
  {
   "cell_type": "code",
   "execution_count": 39,
   "id": "c1fb5a92-825b-4219-b160-6c2f8d7f4199",
   "metadata": {},
   "outputs": [
    {
     "name": "stdout",
     "output_type": "stream",
     "text": [
      "-1.5 -2.334695240222645\n",
      "1.5 4.722533605507097\n",
      "0.849609375\n"
     ]
    }
   ],
   "source": [
    "import math\n",
    "def f4(s):\n",
    "    return s*math.exp(s)-2\n",
    "\n",
    "def bisection(a,b):\n",
    "    if (f4(a)*f4(b)>=0):\n",
    "        print('wrong interval')\n",
    "    c = a\n",
    "    print (a, f4(a))\n",
    "    print (b, f4(b))\n",
    "    while ((b-a)>= 0.01):\n",
    "        c=(a+b)/2\n",
    "        if (f4(c)==0):\n",
    "            break\n",
    "        if (f4(c)*f4(a)<0):\n",
    "            b=c\n",
    "        else:\n",
    "            a=c\n",
    "    print (c)\n",
    "    \n",
    "a = -1.5\n",
    "b = 1.5\n",
    "bisection(-1.5,1.5)"
   ]
  },
  {
   "cell_type": "code",
   "execution_count": 11,
   "id": "0a0a1e90-2bde-480a-9c69-db9740e84d3b",
   "metadata": {},
   "outputs": [
    {
     "name": "stdout",
     "output_type": "stream",
     "text": [
      "\n",
      "wrong interval\n",
      "  1.20E+00   1.98E+00\n",
      "  1.50E+00   4.72E+00\n",
      "  1.50E+00   4.72E+00\n",
      "\n",
      "wrong interval\n",
      "  1.10E+00   1.30E+00\n",
      "  1.50E+00   4.72E+00\n",
      "  1.50E+00   4.72E+00\n",
      "\n",
      "wrong interval\n",
      "  1.00E+00   7.18E-01\n",
      "  1.50E+00   4.72E+00\n",
      "  1.50E+00   4.72E+00\n",
      "\n",
      "wrong interval\n",
      "  9.00E-01   2.14E-01\n",
      "  1.50E+00   4.72E+00\n",
      "  1.50E+00   4.72E+00\n",
      "\n",
      "  8.00E-01  -2.20E-01\n",
      "  1.50E+00   4.72E+00\n",
      "  8.53E-01   2.49E-09\n",
      "\n",
      "Steps:  5\n"
     ]
    }
   ],
   "source": [
    "import math\n",
    "def f4(s):\n",
    "    return s*math.exp(s)-2\n",
    "\n",
    "def bisection(a,b):\n",
    "    if (f4(a)*f4(b)>=0):\n",
    "        print('wrong interval')\n",
    "    c = a\n",
    "    print (\"%10.2E\" %a, \"%10.2E\" %f4(a))\n",
    "    print (\"%10.2E\" %b, \"%10.2E\" %f4(b))\n",
    "    while ((b-a)>= 0.000001):\n",
    "        for i in range(15):\n",
    "            c=(a+b)/2\n",
    "            if (f4(c)==0):\n",
    "                break\n",
    "            if (f4(c)*f4(a)<0):\n",
    "                b=c\n",
    "            else:\n",
    "                a=c\n",
    "    print (\"%10.2E\" %c, \"%10.2E\" %(f4(b)))\n",
    "def bracket(a,b):\n",
    "    t=0\n",
    "    while (f4(a)*f4(b)>=0):\n",
    "        t=t+1\n",
    "        if (abs(f4(a)) < abs(f4(b))):\n",
    "            a=a-0.1\n",
    "        if (abs(f4(a)) > abs(f4(b))):\n",
    "            b= b+0.1\n",
    "        print()\n",
    "        bisection(a,b)\n",
    "    print()\n",
    "    print('Steps: ',t)\n",
    "\n",
    "a=1.3\n",
    "b=1.5\n",
    "bracket(a,b)"
   ]
  },
  {
   "cell_type": "code",
   "execution_count": null,
   "id": "348b4fdd-ef22-4a0d-bbb9-4b0e41290350",
   "metadata": {},
   "outputs": [],
   "source": []
  }
 ],
 "metadata": {
  "kernelspec": {
   "display_name": "Python 3",
   "language": "python",
   "name": "python3"
  },
  "language_info": {
   "codemirror_mode": {
    "name": "ipython",
    "version": 3
   },
   "file_extension": ".py",
   "mimetype": "text/x-python",
   "name": "python",
   "nbconvert_exporter": "python",
   "pygments_lexer": "ipython3",
   "version": "3.8.8"
  }
 },
 "nbformat": 4,
 "nbformat_minor": 5
}
