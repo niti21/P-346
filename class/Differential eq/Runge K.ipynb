{
 "cells": [
  {
   "cell_type": "code",
   "execution_count": 8,
   "id": "7258d905-6e73-4454-adc3-39532d5d678b",
   "metadata": {},
   "outputs": [],
   "source": [
    "import matplotlib.pyplot as plt\n",
    "def RK( dydx, x0, y0, xf, st):\n",
    "    \n",
    "    x = [x0]\n",
    "    y = [y0]\n",
    "\n",
    "    n = int((xf-x0)/st)     # no. of steps\n",
    "    for i in range(n):\n",
    "        x.append(x[i] + st)\n",
    "        k1 = st * dydx(x[i], y[i])\n",
    "        k2 = st * dydx(x[i] + st/2, y[i] + k1/2)\n",
    "        k3 = st * dydx(x[i] + st/2, y[i] + k2/2)\n",
    "        k4 = st * dydx(x[i] + st, y[i] + k3)\n",
    "      \n",
    "        y.append(y[i] + (k1 + 2*k2 + 2*k3 + k4)/6)\n",
    "       \n",
    "    return x, y"
   ]
  },
  {
   "cell_type": "code",
   "execution_count": 11,
   "id": "116c6272-0205-4b94-9294-99d27e1c0c07",
   "metadata": {},
   "outputs": [
    {
     "data": {
      "text/plain": [
       "<matplotlib.collections.PathCollection at 0x1cafbb95820>"
      ]
     },
     "execution_count": 11,
     "metadata": {},
     "output_type": "execute_result"
    },
    {
     "data": {
      "image/png": "[encoded data removed]",
      "text/plain": [
       "<Figure size 432x288 with 1 Axes>"
      ]
     },
     "metadata": {
      "needs_background": "light"
     },
     "output_type": "display_data"
    }
   ],
   "source": [
    "\n",
    "def dydx(x, y):\n",
    "    return y-(x**2)+1\n",
    "\n",
    "x0_1, y0_1 = RK( dydx, 0, 0.5, 5, 0.1)\n",
    "x0_2, y0_2 = RK( dydx, 0, 0.5, 5, 0.5)\n",
    "\n",
    "plt.scatter(x0_1,y0_1) #orange\n",
    "plt.scatter(x0_2,y0_2) #blue\n",
    "\n",
    "#print(x0_1, y0_1)\n",
    "#print(x0_2, y0_2)"
   ]
  },
  {
   "cell_type": "code",
   "execution_count": null,
   "id": "574b0e1c-10bd-4f9e-8ed5-687c973fb8b4",
   "metadata": {},
   "outputs": [],
   "source": []
  }
 ],
 "metadata": {
  "kernelspec": {
   "display_name": "Python 3",
   "language": "python",
   "name": "python3"
  },
  "language_info": {
   "codemirror_mode": {
    "name": "ipython",
    "version": 3
   },
   "file_extension": ".py",
   "mimetype": "text/x-python",
   "name": "python",
   "nbconvert_exporter": "python",
   "pygments_lexer": "ipython3",
   "version": "3.8.8"
  }
 },
 "nbformat": 4,
 "nbformat_minor": 5
}
