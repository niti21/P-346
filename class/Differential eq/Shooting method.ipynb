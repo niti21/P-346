{
 "cells": [
  {
   "cell_type": "code",
   "execution_count": 1,
   "id": "9eda21fc-4d07-4ca5-a002-e1298aa1085a",
   "metadata": {},
   "outputs": [],
   "source": [
    "def LagInterpolation(zh, zl, yh, yl, y):\n",
    "    z = zl + ((zh - zl) * (y - yl)/(yh - yl))\n",
    "    return z\n",
    "\n",
    "def RK(d2ydx2, dydx, x0, y0, z0, xf, st):\n",
    "    \n",
    "    x = [x0]\n",
    "    y = [y0]\n",
    "    z = [z0]      # dy/dx\n",
    "\n",
    "    n = int((xf-x0)/st)     # no. of steps\n",
    "    for i in range(n):\n",
    "        x.append(x[i] + st)\n",
    "        k1 = st * dydx(x[i], y[i], z[i])\n",
    "        l1 = st * d2ydx2(x[i], y[i], z[i])\n",
    "        k2 = st * dydx(x[i] + st/2, y[i] + k1/2, z[i] + l1/2)\n",
    "        l2 = st * d2ydx2(x[i] + st/2, y[i] + k1/2, z[i] + l1/2)\n",
    "        k3 = st * dydx(x[i] + st/2, y[i] + k2/2, z[i] + l2/2)\n",
    "        l3 = st * d2ydx2(x[i] + st/2, y[i] + k2/2, z[i] + l2/2)\n",
    "        k4 = st * dydx(x[i] + st, y[i] + k3, z[i] + l3)\n",
    "        l4 = st * d2ydx2(x[i] + st, y[i] + k3, z[i] + l3)\n",
    "\n",
    "        y.append(y[i] + (k1 + 2*k2 + 2*k3 + k4)/6)\n",
    "        z.append(z[i] + (l1 + 2*l2 + 2*l3 + l4)/6)\n",
    "\n",
    "    return x, y, z"
   ]
  },
  {
   "cell_type": "code",
   "execution_count": 2,
   "id": "a52946ff-fdef-47ce-a948-4ef876525cfc",
   "metadata": {},
   "outputs": [],
   "source": [
    "def shoot(d2ydx2, dydx, x0, y0, xf, yf, z_g1, z_g2, st, tol):\n",
    "    #x0: Lower boundary value of x; xf: Upper boundary value of x\n",
    "    #y0 = y(x0) ; yf = y(xf); z = dy/dx\n",
    "    x, y, z = RK(d2ydx2, dydx, x0, y0, z_g1, xf, st)\n",
    "    yn = y[-1]\n",
    "    \n",
    "    if abs(yn - yf) > tol:\n",
    "        if yn < yf:\n",
    "            zl = z_g1\n",
    "            yl = yn\n",
    "\n",
    "            x, y, z = RK(d2ydx2, dydx, x0, y0, z_g2, xf, st)\n",
    "            yn = y[-1]\n",
    "\n",
    "            if yn > yf:\n",
    "                zh = z_g2\n",
    "                yh = yn\n",
    "\n",
    "                # calculate zeta using Lagrange interpolation\n",
    "                z = LagInterpolation(zh, zl, yh, yl, yf)\n",
    "\n",
    "                # using this zeta to solve using RK4\n",
    "                x, y, z = RK(d2ydx2, dydx, x0, y0, z, xf, st)\n",
    "                return x, y, z\n",
    "\n",
    "            else:\n",
    "                print(\"Bracketing failed!\")\n",
    "\n",
    "\n",
    "        elif yn > yf:\n",
    "            zh = z_g1\n",
    "            yh = yn\n",
    "\n",
    "            x, y, z = RK(d2ydx2, dydx, x0, y0, z_g2, xf, st)\n",
    "            yn = y[-1]\n",
    "\n",
    "            if yn < yf:\n",
    "                zl = z_g2\n",
    "                yl = yn\n",
    "\n",
    "                # calculate zeta using Lagrange interpolation\n",
    "                z = LagInterpolation(zh, zl, yh, yl, yf)\n",
    "\n",
    "                x, y, z = RK(d2ydx2, dydx, x0, y0, z, xf, st)\n",
    "                return x, y, z\n",
    "\n",
    "            else:\n",
    "                print(\"Bracketing FAILED\")\n",
    "\n",
    "\n",
    "    else:\n",
    "        return x, y, z "
   ]
  },
  {
   "cell_type": "code",
   "execution_count": 4,
   "id": "109ed51b-5d05-4c39-9403-2e72f2543ff0",
   "metadata": {},
   "outputs": [
    {
     "data": {
      "image/png": "[encoded data removed]",
      "text/plain": [
       "<Figure size 720x360 with 1 Axes>"
      ]
     },
     "metadata": {
      "needs_background": "light"
     },
     "output_type": "display_data"
    }
   ],
   "source": [
    "import matplotlib.pyplot as plt\n",
    "import math\n",
    "import numpy as np\n",
    "\n",
    "def dydx(x, y, z):\n",
    "    return z\n",
    "def d2ydx2(x, y, z):\n",
    "    return 2*y\n",
    "x_1, y_1, z_1 = shoot(d2ydx2, dydx, 0, 1.2, 1, 0.9, -1.5, -1, 0.02, 0.000001)\n",
    "x_2, y_2, z_2 = shoot(d2ydx2, dydx, 0, 1.2, 1, 0.5614, -0.5, -2, 0.02, 0.000001)\n",
    "x_3, y_3, z_3 = shoot(d2ydx2, dydx, 0, 1.2, 1, 1.2455, -2, -1, 0.02, 0.000001)\n",
    "e = 2.71828\n",
    "fig = plt.figure(figsize = (10, 5))\n",
    "plt.scatter(x_1,y_1) #blue\n",
    "plt.scatter(x_2,y_2) #orange\n",
    "plt.scatter(x_3,y_3) #green\n",
    "xx = np.linspace(0, 1, 100)\n",
    "yy = (0.157*(e**(math.sqrt(2)*xx))) + (1.043*(e**(-math.sqrt(2)*xx)))\n",
    "plt.plot(xx, yy)\n",
    "plt.show()"
   ]
  },
  {
   "cell_type": "code",
   "execution_count": null,
   "id": "b01df8d5-793a-4a68-9330-0725ded62b5e",
   "metadata": {},
   "outputs": [],
   "source": [
    "import matplotlib.pyplot as plt\n",
    "import numpy as np\n",
    " \n",
    "# Creating vectors X and Y\n",
    "x = np.linspace(-1, 1, 100)\n",
    "y = x\n",
    " \n",
    "fig = plt.figure(figsize = (10, 5))\n",
    "# Create the plot\n",
    "plt.plot(x, y)\n",
    " \n",
    "# Show the plot\n",
    "plt.show()\n",
    "\n"
   ]
  },
  {
   "cell_type": "code",
   "execution_count": null,
   "id": "7dbb8f5f-ccfb-4c88-9791-6dd49d5de7aa",
   "metadata": {},
   "outputs": [],
   "source": []
  }
 ],
 "metadata": {
  "kernelspec": {
   "display_name": "Python 3",
   "language": "python",
   "name": "python3"
  },
  "language_info": {
   "codemirror_mode": {
    "name": "ipython",
    "version": 3
   },
   "file_extension": ".py",
   "mimetype": "text/x-python",
   "name": "python",
   "nbconvert_exporter": "python",
   "pygments_lexer": "ipython3",
   "version": "3.8.8"
  }
 },
 "nbformat": 4,
 "nbformat_minor": 5
}
