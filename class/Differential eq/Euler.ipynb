{
 "cells": [
  {
   "cell_type": "code",
   "execution_count": 2,
   "id": "9b977a3a-83d3-475a-92cb-db06ffb69355",
   "metadata": {},
   "outputs": [],
   "source": [
    "import math\n",
    "import matplotlib.pyplot as plt\n",
    "def for_euler(dydx, y0, x0, xf, st):\n",
    "    x = []\n",
    "    y = []\n",
    "    x.append(x0)\n",
    "    y.append(y0)\n",
    "    \n",
    "    n = int((xf-x0)/st)\n",
    "    for i in range(n):\n",
    "        x.append(x[i] + st)\n",
    "    for i in range(n):\n",
    "        y.append(y[i] + st * dydx(y[i], x[i]))\n",
    "\n",
    "    return x, y"
   ]
  },
  {
   "cell_type": "code",
   "execution_count": 8,
   "id": "452543a5-4f22-49b0-bc1b-03782f0dac8f",
   "metadata": {},
   "outputs": [
    {
     "data": {
      "text/plain": [
       "<matplotlib.collections.PathCollection at 0x2d033b444c0>"
      ]
     },
     "execution_count": 8,
     "metadata": {},
     "output_type": "execute_result"
    },
    {
     "data": {
      "image/png": "[encoded data removed]",
      "text/plain": [
       "<Figure size 432x288 with 1 Axes>"
      ]
     },
     "metadata": {
      "needs_background": "light"
     },
     "output_type": "display_data"
    }
   ],
   "source": [
    "def dydx(y,x):\n",
    "    return math.sin(x)-x\n",
    "\n",
    "x1_1, y1_1 = for_euler(dydx, 0.5 ,0, 5, 0.5)\n",
    "x1_2, y1_2 = for_euler(dydx, 0.5 ,0, 5, 0.1)\n",
    "plt.scatter(x1_1, y1_1) #blue\n",
    "plt.scatter(x1_2, y1_2) #orange"
   ]
  }
 ],
 "metadata": {
  "kernelspec": {
   "display_name": "Python 3",
   "language": "python",
   "name": "python3"
  },
  "language_info": {
   "codemirror_mode": {
    "name": "ipython",
    "version": 3
   },
   "file_extension": ".py",
   "mimetype": "text/x-python",
   "name": "python",
   "nbconvert_exporter": "python",
   "pygments_lexer": "ipython3",
   "version": "3.8.8"
  }
 },
 "nbformat": 4,
 "nbformat_minor": 5
}
