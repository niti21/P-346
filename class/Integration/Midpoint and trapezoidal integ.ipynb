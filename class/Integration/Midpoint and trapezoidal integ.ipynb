{
 "cells": [
  {
   "cell_type": "code",
   "execution_count": 1,
   "id": "055c8bf3",
   "metadata": {},
   "outputs": [],
   "source": [
    "import math\n",
    "\n",
    "def f1(x):\n",
    "    y = (1/x)\n",
    "    return(y)\n",
    "\n",
    "def f2(x):\n",
    "    y = (x*math.cos(x))\n",
    "    return(y)\n",
    "\n",
    "def midpoint_method(a,b,N,f):\n",
    "    h = (abs(a - b))/N\n",
    "    x = []\n",
    "    y = []\n",
    "    # print(h)\n",
    "    for i in range(1,N+1):\n",
    "        x.append((2*a + (2*i-1)*h)/2)\n",
    "       \n",
    "        y.append(f(x[i-1]))\n",
    "    # print(y)\n",
    "    # print(x)\n",
    "    sum1 = 0\n",
    "    for j in range(0,len(y)):\n",
    "        sum1 = sum1 + y[j]*h\n",
    "    res = round(sum1,9)\n",
    "    return res\n",
    "       \n",
    "def trapezoidal(a,b,N,f):\n",
    "    h = (abs(a - b))/N\n",
    "    x = []\n",
    "    y = []\n",
    "    # print(h)\n",
    "   \n",
    "    for i in range(0,N+1):\n",
    "        x.append((a + i*h))\n",
    "        y.append(f(x[i]))\n",
    "    sum1 = 0\n",
    "    for i in range(1,len(x)):\n",
    "        sum1 = sum1 + (h/2)*(y[i-1]+y[i])\n",
    "    res = round(sum1,9)\n",
    "    return res\n",
    "\n"
   ]
  },
  {
   "cell_type": "code",
   "execution_count": 2,
   "id": "46421e9c",
   "metadata": {},
   "outputs": [
    {
     "name": "stdout",
     "output_type": "stream",
     "text": [
      "0.691219891\n",
      "0.692660554\n",
      "0.692930495\n",
      "0.693069098\n",
      "0.587447917\n",
      "0.574934273\n",
      "0.572633371\n",
      "0.571457287\n",
      "0.69702381\n",
      "0.69412185\n",
      "0.693580833\n",
      "0.693303382\n",
      "0.537607128\n",
      "0.562527522\n",
      "0.567123637\n",
      "0.569474588\n"
     ]
    }
   ],
   "source": [
    "midpoint_method(1,2,4,f1)\n",
    "midpoint_method(1,2,8,f1)\n",
    "midpoint_method(1,2,12,f1)\n",
    "midpoint_method(1,2,20,f1)\n",
    "\n",
    "midpoint_method(0,(math.pi)/2,4,f2)\n",
    "midpoint_method(0,(math.pi)/2,8,f2)\n",
    "midpoint_method(0,(math.pi)/2,12,f2)\n",
    "midpoint_method(0,(math.pi)/2,20,f2)\n",
    "\n",
    "trapezoidal(1,2,4,f1)\n",
    "trapezoidal(1,2,8,f1)\n",
    "trapezoidal(1,2,12,f1)\n",
    "trapezoidal(1,2,20,f1)\n",
    "\n",
    "trapezoidal(0,(math.pi)/2,4,f2)\n",
    "trapezoidal(0,(math.pi)/2,8,f2)\n",
    "trapezoidal(0,(math.pi)/2,12,f2)\n",
    "trapezoidal(0,(math.pi)/2,20,f2)"
   ]
  },
  {
   "cell_type": "code",
   "execution_count": null,
   "id": "f1258562",
   "metadata": {},
   "outputs": [],
   "source": []
  }
 ],
 "metadata": {
  "kernelspec": {
   "display_name": "Python 3",
   "language": "python",
   "name": "python3"
  },
  "language_info": {
   "codemirror_mode": {
    "name": "ipython",
    "version": 3
   },
   "file_extension": ".py",
   "mimetype": "text/x-python",
   "name": "python",
   "nbconvert_exporter": "python",
   "pygments_lexer": "ipython3",
   "version": "3.8.8"
  }
 },
 "nbformat": 4,
 "nbformat_minor": 5
}
