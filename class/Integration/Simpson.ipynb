{
 "cells": [
  {
   "cell_type": "code",
   "execution_count": 3,
   "id": "77c05f56",
   "metadata": {},
   "outputs": [
    {
     "name": "stdout",
     "output_type": "stream",
     "text": [
      "0.69325397\n",
      "0.69315453\n",
      "0.69314866\n",
      "0.69314737\n"
     ]
    }
   ],
   "source": [
    "import math\n",
    " \n",
    "# Function to calculate f(x)\n",
    "def f(x):\n",
    "    return 1/x\n",
    "def fn(c,z):\n",
    "    sum1 =0\n",
    "    for i in range(0,len(c)):\n",
    "        sum1 = sum1 + c[i]*(z**(len(c)-i-1))\n",
    "    return sum1\n",
    "\n",
    "def Clist(c):\n",
    "    cn = []\n",
    "    for i in range(0,len(c)):\n",
    "        a = c[i]\n",
    "        cn.append(a)\n",
    "    return cn\n",
    " \n",
    "# Function for approximate integral\n",
    "def Simpsons( l, u, n, f ):\n",
    " \n",
    "    # Calculating the value of h\n",
    "    h = ( u - l )/n\n",
    " \n",
    "    # List for storing value of x and f(x)\n",
    "    x = list()\n",
    "    fx = list()\n",
    "    # Calculating values of x and f(x)\n",
    "    i = 0\n",
    "    while i<= n:\n",
    "        x.append(l + i * h)\n",
    "        fx.append(f(x[i]))\n",
    "        i += 1\n",
    " \n",
    "    # Calculating result\n",
    "    res = 0\n",
    "    i = 0\n",
    "    while i<= n:\n",
    "        if i == 0 or i == n:\n",
    "            res+= fx[i]\n",
    "        elif i % 2 != 0:\n",
    "            res+= 4 * fx[i]\n",
    "        else:\n",
    "            res+= 2 * fx[i]\n",
    "        i+= 1\n",
    "    res = res * (h / 3)\n",
    "    return res\n",
    "     \n",
    "\n",
    "ll = 1  # Lower limit\n",
    "ul = 2 # Upper limit\n",
    "print(\"%.8f\"% Simpsons(ll, ul, 4, f))\n",
    "print(\"%.8f\"% Simpsons(ll, ul, 8, f))\n",
    "print(\"%.8f\"% Simpsons(ll, ul, 12, f))\n",
    "print(\"%.8f\"% Simpsons(ll, ul, 20, f))\n",
    "\n"
   ]
  },
  {
   "cell_type": "code",
   "execution_count": 6,
   "id": "cf3e375f-923b-4512-a458-e48cf27f5baa",
   "metadata": {},
   "outputs": [
    {
     "name": "stdout",
     "output_type": "stream",
     "text": [
      "0.06042750794713536\n",
      "0.002886751345948129\n",
      "0.004082482904638631\n"
     ]
    }
   ],
   "source": [
    "def f(x):\n",
    "    return 1/x\n",
    "\n",
    "def N_simp(l,u,t):\n",
    "    N = ((1/180*t)*24)**(1/4)\n",
    "    return N\n",
    "def N_mid(l,u,t):\n",
    "    N = ((1/24*t)*2)**(1/2)\n",
    "    return N\n",
    "def N_trap(l,u,t):\n",
    "    N = ((1/12*t)*2)**(1/2)\n",
    "    return N\n",
    "a=N_simp(1,2,0.0001)\n",
    "b=N_mid(1,2,0.0001)\n",
    "c=N_trap(1,2,0.0001)\n",
    "print(a)\n",
    "print(b)\n",
    "print(c)"
   ]
  },
  {
   "cell_type": "code",
   "execution_count": 5,
   "id": "58fda5f7-a314-484b-ab9e-dcd2f5cc6d94",
   "metadata": {},
   "outputs": [
    {
     "name": "stdout",
     "output_type": "stream",
     "text": [
      "0.69315453\n"
     ]
    }
   ],
   "source": [
    "print(\"%.8f\"% Simpsons(ll, ul, 8))"
   ]
  },
  {
   "cell_type": "code",
   "execution_count": null,
   "id": "fd6a0bea-c382-4d8e-bda8-5aab9c6d7c19",
   "metadata": {},
   "outputs": [],
   "source": []
  }
 ],
 "metadata": {
  "kernelspec": {
   "display_name": "Python 3",
   "language": "python",
   "name": "python3"
  },
  "language_info": {
   "codemirror_mode": {
    "name": "ipython",
    "version": 3
   },
   "file_extension": ".py",
   "mimetype": "text/x-python",
   "name": "python",
   "nbconvert_exporter": "python",
   "pygments_lexer": "ipython3",
   "version": "3.8.8"
  }
 },
 "nbformat": 4,
 "nbformat_minor": 5
}
