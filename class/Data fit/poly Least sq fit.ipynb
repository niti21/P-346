{
 "cells": [
  {
   "cell_type": "code",
   "execution_count": 3,
   "id": "a04a5d25",
   "metadata": {},
   "outputs": [
    {
     "data": {
      "image/png": "[encoded data removed]",
      "text/plain": [
       "<Figure size 432x288 with 1 Axes>"
      ]
     },
     "metadata": {
      "needs_background": "light"
     },
     "output_type": "display_data"
    },
    {
     "name": "stdout",
     "output_type": "stream",
     "text": [
      "\n",
      "[18, 1072, 73760, 502.1]\n",
      "[1072, 73760, 5545216, 20355.48]\n",
      "[73760, 5545216, 440359424, 830093.2799999998]\n",
      "\n",
      "Gauss jordan solution: \n"
     ]
    },
    {
     "data": {
      "text/plain": [
       "[5.724106286024266, 2.3100182987058218, -0.02816260207919032]"
      ]
     },
     "execution_count": 3,
     "metadata": {},
     "output_type": "execute_result"
    }
   ],
   "source": [
    "import NSlib as l\n",
    "import matplotlib.pyplot as plt\n",
    "#least square fitting\n",
    "X = [20,24,28,36,40,44,48,52,60,64,68,72,76,80,84,88,92,96]\n",
    "Y = [44.8,45.24,47.57,46.01,52.01,53.41,50.59,51.32,41.92,37.01,34.1,30.04,20.76,12.49,0.95,-9.44,-26.93,-29.75]\n",
    "\n",
    "def create_augument(z,x):\n",
    "    for i in range(0,len(z)):\n",
    "        z[i].append(x[i])\n",
    "        print(z[i])\n",
    "    return z\n",
    "\n",
    "def least_sq_fit(X,Y,degree):\n",
    "    plt.plot((X),Y)\n",
    "    plt.show()  \n",
    "    V= []\n",
    "    for i in range(0,degree):\n",
    "        a = []\n",
    "        for j in range(0,degree):\n",
    "            a.append(0)\n",
    "        V.append(a)\n",
    "    z = []\n",
    "    c = []\n",
    "    for j in range(0,2*len(V)-1):\n",
    "        sum1= 0\n",
    "        sum2 = 0\n",
    "        for i in range(0,len(X)):\n",
    "            sum1 =sum1+(X[i]**j)\n",
    "            sum2 = sum2 + Y[i]*(X[i]**(j))\n",
    "        z.append(sum1)\n",
    "        c.append(sum2)\n",
    "    c.pop()\n",
    "    c.pop()\n",
    "    for i in range(0,len(V)):\n",
    "        for j in range(0,len(V)):\n",
    "            V[i][j] = z[i+j]\n",
    "    return V,c\n",
    "   \n",
    "   \n",
    "V,c =least_sq_fit(X,Y,3)\n",
    "\n",
    "print(\"\")\n",
    "\n",
    "create_augument(V,c)\n",
    "\n",
    "print(\"\")\n",
    "\n",
    "l.gauss_jordan(V,c)"
   ]
  }
 ],
 "metadata": {
  "kernelspec": {
   "display_name": "Python 3",
   "language": "python",
   "name": "python3"
  },
  "language_info": {
   "codemirror_mode": {
    "name": "ipython",
    "version": 3
   },
   "file_extension": ".py",
   "mimetype": "text/x-python",
   "name": "python",
   "nbconvert_exporter": "python",
   "pygments_lexer": "ipython3",
   "version": "3.8.8"
  }
 },
 "nbformat": 4,
 "nbformat_minor": 5
}
