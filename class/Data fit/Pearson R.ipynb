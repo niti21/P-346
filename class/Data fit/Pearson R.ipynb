{
 "cells": [
  {
   "cell_type": "code",
   "execution_count": 3,
   "id": "d3b81e53",
   "metadata": {},
   "outputs": [
    {
     "data": {
      "text/plain": [
       "-0.21568392507809753"
      ]
     },
     "execution_count": 3,
     "metadata": {},
     "output_type": "execute_result"
    }
   ],
   "source": [
    "def persons_ratio(x,y):\n",
    "    #for sigma =1\n",
    "    n=len(x)\n",
    "    sx,sy,sxy,sx2,sy2=0,0,0,0,0\n",
    "    for i in range(n):\n",
    "        sx+=x[i]\n",
    "        sy+=y[i]\n",
    "        sxy+=x[i]*y[i]\n",
    "        sx2+=x[i]**2\n",
    "        sy2+=y[i]**2\n",
    "    R=(n*sxy - sx*sy)/(((n*sx2 - sx*2)**0.5)*((n*sy2 - sy*2)**0.5))\n",
    "    return R\n",
    "\n",
    "X = [20,24,28,36,40,44,48,52,60,64,68,72,76,80,84,88,92,96]\n",
    "Y = [44.8,45.24,47.57,46.01,52.01,53.41,50.59,51.32,41.92,37.01,34.1,30.04,20.76,12.49,0.95,-9.44,-26.93,-29.75]\n",
    "\n",
    "persons_ratio(X,Y)"
   ]
  },
  {
   "cell_type": "code",
   "execution_count": null,
   "id": "6bf64b52",
   "metadata": {},
   "outputs": [],
   "source": []
  }
 ],
 "metadata": {
  "kernelspec": {
   "display_name": "Python 3",
   "language": "python",
   "name": "python3"
  },
  "language_info": {
   "codemirror_mode": {
    "name": "ipython",
    "version": 3
   },
   "file_extension": ".py",
   "mimetype": "text/x-python",
   "name": "python",
   "nbconvert_exporter": "python",
   "pygments_lexer": "ipython3",
   "version": "3.8.8"
  }
 },
 "nbformat": 4,
 "nbformat_minor": 5
}
