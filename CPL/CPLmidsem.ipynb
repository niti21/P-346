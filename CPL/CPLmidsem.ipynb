{
 "cells": [
  {
   "cell_type": "code",
   "execution_count": 1,
   "metadata": {},
   "outputs": [],
   "source": [
    "%run CPL_Library.ipynb # Running the entire library in one line because \n",
    "                        # importing does not work with JupyterLab\n"
   ]
  },
  {
   "cell_type": "markdown",
   "metadata": {},
   "source": [
    "# P346 Comp Phy Lab - Mid-sem exam\n",
    "### Date - 9 Oct 2021\n",
    "### Chandan Kumar Sahu - 1911055"
   ]
  },
  {
   "cell_type": "markdown",
   "metadata": {},
   "source": [
    "#### Question 1"
   ]
  },
  {
   "cell_type": "code",
   "execution_count": 2,
   "metadata": {},
   "outputs": [
    {
     "name": "stdout",
     "output_type": "stream",
     "text": [
      "NEWTON RAPHSON METHOD\n",
      "\n",
      "Nearest root of the given function for the given value of x = 5 is = 4.965114231744276\n",
      "\n",
      "Value of b upto atleast upto precision 10^-4 is = 0.002879\n"
     ]
    }
   ],
   "source": [
    "# Putting a precision 2 more than asked in question for better answer\n",
    "\n",
    "def f1(x):\n",
    "    return (x-5)*math.exp(x)+5\n",
    "\n",
    "eps=10**-6 # giving accuracy 2 more than required for better functioning\n",
    "\n",
    "print(\"NEWTON RAPHSON METHOD\\n\")\n",
    "# guess # Chandan Kumar Sahu - 1911055\n",
    "x=5 \n",
    "root=newton_raphson(x,f1)\n",
    "print(\"Nearest root of the given function for the given value of x = \" + str(x) + \" is = \"+str(root))\n",
    "\n",
    "# Given x = hc/LkT (L = lambda)\n",
    "# b = LT = hc/kx\n",
    "h=6.626*10**(-34) # Js\n",
    "k=1.381*10**(-23) # kg/Ks^2\n",
    "c=3*10**8 # m/s # Chandan Kumar Sahu - 1911055\n",
    "\n",
    "b = (h*c)/(k*x)\n",
    "print(\"\\nValue of b upto atleast upto precision 10^-4 is = \" + str(ROUND(b,6)))\n",
    "\n"
   ]
  },
  {
   "cell_type": "markdown",
   "metadata": {},
   "source": [
    "#### Question 2"
   ]
  },
  {
   "cell_type": "code",
   "execution_count": 3,
   "metadata": {},
   "outputs": [
    {
     "name": "stdout",
     "output_type": "stream",
     "text": [
      "The augmented matrix is: \n",
      "\n",
      "0.0    0.0    0.0    2.0    1.0    0.0    0.0    0.0    \n",
      "\n",
      "0.0    0.0    3.0    0.0    0.0    1.0    0.0    0.0    \n",
      "\n",
      "0.0    4.0    0.0    0.0    0.0    0.0    1.0    0.0    \n",
      "\n",
      "5.0    0.0    0.0    0.0    0.0    0.0    0.0    1.0    \n",
      "\n",
      "\n",
      "Determinant of the given matrix is = 120.0\n",
      "Det is not zero, inverse exists.\n",
      "\n",
      "The inverse matrix is: \n",
      "\n",
      "0    0    0    0.2    \n",
      "\n",
      "0    0    0.25    0    \n",
      "\n",
      "0    0.33    0    0    \n",
      "\n",
      "0.5    0    0    0    \n",
      "\n",
      "\n",
      "Verification: after multiplying the matrix and its inverse, we get : \n",
      "\n",
      "1.0    0    0    0    \n",
      "\n",
      "0    1.0    0    0    \n",
      "\n",
      "0    0    1.0    0    \n",
      "\n",
      "0    0    0    1.0    \n",
      "\n",
      "\n"
     ]
    }
   ],
   "source": [
    "print(\"The augmented matrix is: \")\n",
    "A,ro,co=read_matrix('MSEmatrixA.txt')\n",
    "\n",
    "print_matrix(A,ro,co)\n",
    "\n",
    "GJ, d=gauss_jordan(A,ro,co)\n",
    "print(\"Determinant of the given matrix is = \" + str(d))\n",
    "print(\"Det is not zero, inverse exists.\")\n",
    "print()\n",
    "C,ro,co=read_matrix('MSEmatrixA.txt')\n",
    "\n",
    "if GJ!=None:\n",
    "    if d!=0:\n",
    "        # Chandan Kumar Sahu - 1911055\n",
    "        # Finding the inverse and printing in rounded form\n",
    "        M=get_inv(A,ro)\n",
    "        \n",
    "        MM,k,l=matrix_multiply(M,ro,ro,C,ro,ro) # using only n x n matrix i.e. unaugmented matrix \n",
    "        M=round_matrix(M)\n",
    "        \n",
    "        print(\"The inverse matrix is: \")\n",
    "        print_matrix(M,ro,ro)\n",
    "        \n",
    "        print(\"Verification: after multiplying the matrix and its inverse, we get : \")\n",
    "        MM=round_matrix(MM) # Chandan Kumar Sahu - 1911055\n",
    "        print_matrix(MM,ro,ro)\n",
    "        \n",
    "    else:\n",
    "        print(\"No solution\")\n",
    "else:\n",
    "    print(\"No solution\")\n"
   ]
  },
  {
   "cell_type": "markdown",
   "metadata": {},
   "source": [
    "#### Question 3"
   ]
  },
  {
   "cell_type": "code",
   "execution_count": 4,
   "metadata": {},
   "outputs": [
    {
     "name": "stdout",
     "output_type": "stream",
     "text": [
      "The matrix is: \n",
      "\n",
      "3.0    -7.0    -2.0    2.0    \n",
      "\n",
      "-3.0    5.0    1.0    0.0    \n",
      "\n",
      "6.0    -4.0    0.0    -5.0    \n",
      "\n",
      "-9.0    5.0    -5.0    12.0    \n",
      "\n",
      "\n",
      "Solutions are : \n",
      "x[0] = 3.0\n",
      "x[1] = 4.0\n",
      "x[2] = -6.0\n",
      "x[3] = -1.0\n",
      "\n",
      "-9.0\n"
     ]
    }
   ],
   "source": [
    "# LU decomposition using Doolittle's condition L[i][i]=1\n",
    "\n",
    "print(\"The matrix is: \")\n",
    "A1,ro,co = read_matrix('MSEmatrixB.txt')\n",
    "print_matrix(A1,ro,co)\n",
    "\n",
    "vector=[-9, 5, 7, 11] # Chandan Kumar Sahu - 1911055\n",
    "\n",
    "# partial pivoting to avoid division by zero at pivot place\n",
    "A1, vector = partial_pivot_LU(A1, vector, ro)\n",
    "A1 = LU_doolittle(A1,ro)\n",
    "\n",
    "x = [0 for i in range(ro)]\n",
    "\n",
    "x = for_back_subs_doolittle(A1,ro,vector)\n",
    "\n",
    "print(\"Solutions are : \")\n",
    "for i in range(ro): # Chandan Kumar Sahu - 1911055\n",
    "    print(\"x[\"+str(i)+\"] = \"+str(x[i]))\n",
    "\n",
    "# Checking if these are correct, putting in first equation, must give -9\n",
    "print()\n",
    "print(3*x[0]-7*x[1]-2*x[2]+2*x[3])\n"
   ]
  },
  {
   "cell_type": "markdown",
   "metadata": {},
   "source": [
    "#### Question 4"
   ]
  },
  {
   "cell_type": "code",
   "execution_count": 5,
   "metadata": {},
   "outputs": [
    {
     "name": "stdout",
     "output_type": "stream",
     "text": [
      "\n",
      "BISECTION METHOD\n",
      "Root of the given function in the interval (0,1) = 0.3705587387084961\n",
      "\n",
      "REGULA FALSI METHOD\n",
      "Root of the given function in the interval (0,1) = 0.3705584003334566\n"
     ]
    }
   ],
   "source": [
    "def f2(x):\n",
    "    return 4*math.exp(-x)*math.sin(x)-1\n",
    "\n",
    "eps=10**-6\n",
    "\n",
    "p=0\n",
    "q=1 # Chandan Kumar Sahu - 1911055\n",
    "a,b=bracketing(p,q,f2)\n",
    "\n",
    "print(\"\\nBISECTION METHOD\")\n",
    "root=bisection(a,b,f2)\n",
    "if p==a and q==b:\n",
    "    print(\"Root of the given function in the interval (\" + str(p) + \",\" + str(q) + \") = \"+str(root))\n",
    "else:\n",
    "    print(\"Root does not lie in the given range (\" + str(p) + \",\" + str(q)+\")\")\n",
    "    print(\"We change the interval to (\" + str(a) + \",\" + str(b)+\")\")\n",
    "    print(\"Root of the given function in the interval (\" + str(a) + \",\" + str(b) + \") is \"+str(root))\n",
    "\n",
    "print(\"\\nREGULA FALSI METHOD\")\n",
    "root=regula_falsi(a,b,f2)\n",
    "if p==a and q==b:\n",
    "    print(\"Root of the given function in the interval (\" + str(p) + \",\" + str(q) + \") = \"+str(root))\n",
    "else:\n",
    "    print(\"Root does not lie in the given range (\" + str(p) + \",\" + str(q)+\")\")\n",
    "    print(\"We change the interval to (\" + str(a) + \",\" + str(b)+\")\") # Chandan Kumar Sahu - 1911055\n",
    "    print(\"Root of the given function in the interval (\" + str(a) + \",\" + str(b) + \") is \"+str(root))\n"
   ]
  },
  {
   "cell_type": "code",
   "execution_count": 6,
   "metadata": {},
   "outputs": [
    {
     "name": "stdout",
     "output_type": "stream",
     "text": [
      "\n",
      "BISECTION METHOD\n",
      "No. of iterations    f(x)                 Root convergence    \n",
      "1.0                  -0.229286            0.25                \n",
      "2.0                  0.006941             0.375               \n",
      "3.0                  -0.100293            0.3125              \n",
      "4.0                  -0.044068            0.34375             \n",
      "5.0                  -0.017925            0.359375            \n",
      "6.0                  -0.005334            0.367188            \n",
      "7.0                  0.000842             0.371094            \n",
      "8.0                  -0.002236            0.369141            \n",
      "9.0                  -0.000694            0.370117            \n",
      "10.0                 7.5e-05              0.370605            \n",
      "11.0                 -0.00031             0.370361            \n",
      "12.0                 -0.000118            0.370483            \n",
      "13.0                 -2.2e-05             0.370544            \n",
      "14.0                 2.7e-05              0.370575            \n",
      "15.0                 3e-06                0.37056             \n",
      "16.0                 -9e-06               0.370552            \n",
      "17.0                 -3e-06               0.370556            \n",
      "18.0                 -0.0                 0.370558            \n",
      "19.0                 1e-06                0.370559            \n",
      "\n",
      "\n",
      "REGULA FALSI METHOD\n",
      "No. of iterations    f(x)                 Root convergence    \n",
      "1.0                  0.288962             0.807598            \n",
      "2.0                  0.253465             0.626549            \n",
      "3.0                  0.163004             0.499854            \n",
      "4.0                  0.084451             0.429796            \n",
      "5.0                  0.038868             0.396325            \n",
      "6.0                  0.016911             0.381497            \n",
      "7.0                  0.007178             0.375153            \n",
      "8.0                  0.003014             0.372479            \n",
      "9.0                  0.00126              0.37136             \n",
      "10.0                 0.000526             0.370892            \n",
      "11.0                 0.000219             0.370697            \n",
      "12.0                 9.1e-05              0.370616            \n",
      "13.0                 3.8e-05              0.370582            \n",
      "14.0                 1.6e-05              0.370568            \n",
      "15.0                 7e-06                0.370562            \n",
      "16.0                 3e-06                0.37056             \n",
      "17.0                 1e-06                0.370559            \n",
      "18.0                 0.0                  0.370558            \n"
     ]
    },
    {
     "data": {
      "image/png": "[encoded data removed]",
      "text/plain": [
       "<Figure size 864x432 with 1 Axes>"
      ]
     },
     "metadata": {
      "needs_background": "light"
     },
     "output_type": "display_data"
    }
   ],
   "source": [
    "\n",
    "plt.figure(figsize=(12,6))\n",
    "\n",
    "p=0\n",
    "q=1\n",
    "\n",
    "a,b=bracketing(p,q,f2) # Chandan Kumar Sahu - 1911055\n",
    "x_bis, y_bis, z_bis = bisection_for_plotting(a,b,f2)\n",
    "x_rf, y_rf, z_rf = regula_falsi_for_plotting(a,b,f2)\n",
    "\n",
    "print(\"\\nBISECTION METHOD\")\n",
    "print (\"{:<20} {:<20} {:<20}\".format('No. of iterations', 'f(x)', 'Root convergence'))\n",
    "for i in range(len(x_bis)):\n",
    "    print (\"{:<20} {:<20} {:<20}\".format(ROUND(x_bis[i],6), ROUND(y_bis[i],6), ROUND(z_bis[i],6)))\n",
    "\n",
    "print(\"\\n\\nREGULA FALSI METHOD\")\n",
    "print (\"{:<20} {:<20} {:<20}\".format('No. of iterations', 'f(x)', 'Root convergence'))\n",
    "for i in range(len(x_rf)):\n",
    "    print (\"{:<20} {:<20} {:<20}\".format(ROUND(x_rf[i],6), ROUND(y_rf[i],6), ROUND(z_rf[i],6)))\n",
    "\n",
    "plt.plot(x_bis, y_bis, 'r-o', label='Bisection')\n",
    "plt.plot(x_rf, y_rf, 'g-o', label='Regula Falsi')\n",
    "# Chandan Kumar Sahu - 1911055\n",
    "plt.grid(color='b', ls = '-.', lw = 0.5)\n",
    "plt.xlabel('No. of iterations')\n",
    "plt.ylabel('f(x)')\n",
    "plt.title('f(x) vs No. of iterations curve')\n",
    "plt.legend()\n",
    "plt.show()\n"
   ]
  },
  {
   "cell_type": "code",
   "execution_count": null,
   "metadata": {},
   "outputs": [],
   "source": []
  }
 ],
 "metadata": {
  "kernelspec": {
   "display_name": "Python 3",
   "language": "python",
   "name": "python3"
  },
  "language_info": {
   "codemirror_mode": {
    "name": "ipython",
    "version": 3
   },
   "file_extension": ".py",
   "mimetype": "text/x-python",
   "name": "python",
   "nbconvert_exporter": "python",
   "pygments_lexer": "ipython3",
   "version": "3.8.8"
  }
 },
 "nbformat": 4,
 "nbformat_minor": 4
}
