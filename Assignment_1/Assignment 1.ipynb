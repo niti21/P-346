{
 "cells": [
  {
   "cell_type": "markdown",
   "id": "8bf81e30",
   "metadata": {},
   "source": [
    "## Q1 Calculate the sum of first N odd numbers and factorial of N (using do-while or for loop)."
   ]
  },
  {
   "cell_type": "code",
   "execution_count": 31,
   "id": "74d42c36",
   "metadata": {},
   "outputs": [
    {
     "name": "stdout",
     "output_type": "stream",
     "text": [
      "Sum of first  12  odd numbers =  144\n",
      "\n",
      "Factorial of  12  =  479001600\n"
     ]
    }
   ],
   "source": [
    "# Calculate the sum of first N odd numbers. \n",
    "# using for loop\n",
    "def oddsum(N):\n",
    "    s=0 \n",
    "    for i in range(1, 2*N+1): \n",
    "        if i%2!=0: \n",
    "            s+=i\n",
    "    return s \n",
    "\n",
    "\n",
    "# factorial of N.  \n",
    "def fact(N):\n",
    "    f = 1\n",
    "    for i in range(1, N):  \n",
    "        f = f*(i+1)\n",
    "        i+=i\n",
    "    return f\n",
    "def display():\n",
    "    print('Sum of first ' ,N,' odd numbers = ', oddsum(N))\n",
    "    print()\n",
    "    print('Factorial of ' ,N,' = ', fact(N))\n",
    "\n",
    "#[taking N=12]\n",
    "N=12 \n",
    "display()"
   ]
  },
  {
   "cell_type": "markdown",
   "id": "d89f448b",
   "metadata": {},
   "source": [
    "## Q2 Calculate the sum of N terms of an AP, GP and HP series for common difference 1.5 and common ratio 0.5."
   ]
  },
  {
   "cell_type": "code",
   "execution_count": 56,
   "id": "558c4adb",
   "metadata": {},
   "outputs": [
    {
     "name": "stdout",
     "output_type": "stream",
     "text": [
      "The AP series and its sum is \n",
      " ([7, 8.5, 10.0, 11.5, 13.0, 14.5, 16.0, 17.5, 19.0, 20.5, 22.0, 23.5], 183.0)\n",
      "\n",
      "The GP series and its sum is \n",
      " ([640, 320.0, 160.0, 80.0, 40.0, 20.0, 10.0, 5.0, 2.5, 1.25, 0.625, 0.3125], 1279.6875)\n",
      "\n",
      "The HP series and its sum is \n",
      " ([0.5, 0.29, 0.2, 0.15, 0.12, 0.11, 0.09, 0.08, 0.07, 0.06, 0.06, 0.05], 1.78)\n"
     ]
    }
   ],
   "source": [
    "# Calculate the sum of N terms of an AP series for common difference 1.5.\n",
    "\n",
    "def sumAP(a,N,d):\n",
    "    S = [a]\n",
    "    s = a\n",
    "    for i in range(1, N): \n",
    "        b = a + d\n",
    "        s = s + b\n",
    "        S.append(b) \n",
    "        a=b\n",
    "   \n",
    "    return S, s\n",
    "\n",
    "# Calculate the sum of N terms of a GP series of common ratio 0.5.\n",
    "    \n",
    "def sumGP(a,N,r):    \n",
    "    S = [a]\n",
    "    s = a\n",
    "    for i in range(1, N): \n",
    "        b = a*r\n",
    "        S.append(b) \n",
    "        s = s + b\n",
    "        a=b\n",
    "    \n",
    "    return S,s\n",
    "\n",
    "#Calculate the sum of N terms of a HP series for common difference 1.5.\n",
    "\n",
    "def sumHP(c,N,d):\n",
    "    S = [1/c]\n",
    "    s = 1/c\n",
    "    for i in range(1, N): \n",
    "        k = c + d\n",
    "        s = round((s + 1/k),2)\n",
    "        S.append(round((1/k),2)) \n",
    "        c=k\n",
    "    return S,s\n",
    "       \n",
    "def display():\n",
    "    print ('The AP series and its sum is \\n', sumAP(a,N,d)) \n",
    "    print()\n",
    "    print ('The GP series and its sum is \\n', sumGP(b,N,r)) \n",
    "    print()\n",
    "    print ('The HP series and its sum is \\n', sumHP(c,N,d)) \n",
    "  \n",
    "\n",
    " #[taking N=12]\n",
    "\n",
    "N = 12\n",
    "a = 7\n",
    "b = 640\n",
    "c = 2\n",
    "d = 1.5    \n",
    "r = 0.5\n",
    "display()"
   ]
  },
  {
   "cell_type": "markdown",
   "id": "149e9427",
   "metadata": {},
   "source": [
    "## Q3 Calculate the sum of the series given below accurate up to 4 place in decimal, where n = 1, 2, . . .. Plot the sum versus n."
   ]
  },
  {
   "cell_type": "code",
   "execution_count": 86,
   "id": "2ee869c0",
   "metadata": {},
   "outputs": [
    {
     "name": "stdout",
     "output_type": "stream",
     "text": [
      "Sum of the series accurate to 4 decimal places is  0.333343505859375\n",
      "\n"
     ]
    },
    {
     "data": {
      "image/png": "[encoded data removed]",
      "text/plain": [
       "<Figure size 432x288 with 1 Axes>"
      ]
     },
     "metadata": {
      "needs_background": "light"
     },
     "output_type": "display_data"
    }
   ],
   "source": [
    "# Calculate the sum of the series given below accurate up to 4 place in decimal, where n = 1, 2, . . .. Plot the sum versus n.\n",
    "\n",
    "%matplotlib inline\n",
    "import matplotlib.pyplot as p\n",
    "\n",
    "def accurate4():\n",
    "    a = 1\n",
    "    P = 0\n",
    "    Q = 0\n",
    "    n = 1\n",
    "    #the loop goes on until the previous sum and the next sum has a difference less than  that of 0.00005\n",
    "    while abs(Q) >= 0:\n",
    "        P = Q\n",
    "        a = ((-1/2)**(n))*(-1)\n",
    "        Q = Q + a\n",
    "        p.scatter(Q,n)\n",
    "        if abs(Q - P) < 0.00005:\n",
    "            break\n",
    "        n = n + 1\n",
    "    return Q\n",
    "\n",
    "def display():\n",
    "    print(\"Sum of the series accurate to 4 decimal places is \", accurate4() )\n",
    "    print()\n",
    "\n",
    "display()\n"
   ]
  },
  {
   "cell_type": "markdown",
   "id": "77a2e49d",
   "metadata": {},
   "source": [
    "## Q4 Find AB, D · C and BC."
   ]
  },
  {
   "cell_type": "code",
   "execution_count": 18,
   "id": "b939844d",
   "metadata": {},
   "outputs": [
    {
     "name": "stdout",
     "output_type": "stream",
     "text": [
      "Matrix A is: [[2.0, -3.0, 1.4], [2.5, 1.0, -2.0], [-0.8, 0.0, 3.1]]\n",
      "Matrix B is: [[0.0, -1.0, 1.0], [1.5, 0.5, -2.0], [3.0, 0.0, -2.0]]\n",
      "Matrix C is: [[-2.0], [0.5], [1.5]]\n",
      "Matrix D is: [[1.0], [0.0], [-1.0]]\n",
      "\n",
      "Product =  [[-0.3000000000000007, -3.5, 5.2], [-4.5, -2.0, 4.5], [9.3, 0.8, -7.0]]\n",
      "Dot Product =  [[-3.5]]\n",
      "Product =  [[1.0], [-5.75], [-9.0]]\n"
     ]
    }
   ],
   "source": [
    "#Calling input files\n",
    "def input():\n",
    "    with open('4a.txt', 'r') as p:\n",
    "        A = [[float(num) for num in line.split(',')] for line in p ]\n",
    "    print(\"Matrix A is:\",A)\n",
    "\n",
    "    with open('4b.txt', 'r') as q:\n",
    "        B = [[float(num) for num in line.split(',')] for line in q ]\n",
    "    print(\"Matrix B is:\",B)\n",
    "\n",
    "    with open('4c.txt', 'r') as r:\n",
    "        C = [[float(num) for num in line.split(',')] for line in r ]\n",
    "    print(\"Matrix C is:\",C)\n",
    "\n",
    "    with open('4d.txt', 'r') as o:\n",
    "        D = [[float(num) for num in line.split(',')] for line in o ]\n",
    "    print(\"Matrix D is:\",D)\n",
    "    print()\n",
    "\n",
    "# Matrix multiplication\n",
    "def Mmultiply(x,y):\n",
    "    r1 = [[0 for i in range(0,len(y[0]))] for j in range(len(y))]  \n",
    "    # iterate through rows of A  \n",
    "    for i in range(len(x)):  \n",
    "       for j in range(len(y[0])):  \n",
    "           for k in range(len(y)):  \n",
    "               r1[i][j] += x[i][k] * y[k][j] \n",
    "    \n",
    "    print ('Product = ',r1)\n",
    "        \n",
    "\n",
    "#Dot product \n",
    "def dotproduct(x,y):\n",
    "    r2 = [[0 for i in range(0,len(y[0]))] for j in range(len(x[0]))]\n",
    "    for i in range(len(x)):   \n",
    "        r2[0][0] = r2[0][0] + x[i][0]*y[i][0]  \n",
    "    print ('Dot Product = ',r2)\n",
    "\n",
    "    \n",
    "input()\n",
    "#for AB\n",
    "Mmultiply(A,B)\n",
    "#for D.C\n",
    "dotproduct(D,C)\n",
    "#for BC\n",
    "Mmultiply(B,C)\n",
    "\n"
   ]
  },
  {
   "cell_type": "markdown",
   "id": "faa3c3a5",
   "metadata": {},
   "source": [
    "## Q5 Define your own class / structure myComplex and calculate the sum, product and modulus of (3 − 2i) and (1 + 2i)."
   ]
  },
  {
   "cell_type": "code",
   "execution_count": 45,
   "id": "3a912d6c",
   "metadata": {},
   "outputs": [
    {
     "name": "stdout",
     "output_type": "stream",
     "text": [
      "Sum = 4 + 0 i\n",
      "Product =  7 + 4 i\n",
      "Modulus = | 9.8489 |\n",
      "Modulus = | 4.1231 |\n"
     ]
    }
   ],
   "source": [
    "    import math\n",
    "    from math import sqrt\n",
    "\n",
    "    class myComplex(object):\n",
    "        def __init__(self,r,i):\n",
    "            self.r = int(r)\n",
    "            self.i = int(i)\n",
    "    \n",
    "    #defining the functions for complex numbers\n",
    "    #Addition\n",
    "    def complexadd(a,b):\n",
    "        x = a.r + b.r\n",
    "        y = a.i + b.i\n",
    "        print(\"Sum =\",x,\"+\",y,'i')\n",
    "\n",
    "    #Multiplication\n",
    "    def complexmultiply(a,b):\n",
    "        x = (a.r * b.r) - (a.i * b.i)\n",
    "        y = (a.r * b.i) + (a.i * b.r)\n",
    "        print(\"Product = \",x,\"+\",y,'i')\n",
    "        \n",
    "    #Modulus\n",
    "    def complexmod(a):\n",
    "        x = (a.r * a.r)\n",
    "        y = (a.i * a.i)\n",
    "        mod = math.sqrt((x*x) + (y*y))\n",
    "        mod = round(mod,4)\n",
    "        print(\"Modulus = |\",mod,\"|\")\n",
    "    \n",
    "a = myComplex(3,-2)\n",
    "b = myComplex(1,2)\n",
    "\n",
    "complexadd(a,b)\n",
    "complexmultiply(a,b)\n",
    "complexmod(a)\n",
    "complexmod(b)\n"
   ]
  }
 ],
 "metadata": {
  "kernelspec": {
   "display_name": "Python 3",
   "language": "python",
   "name": "python3"
  },
  "language_info": {
   "codemirror_mode": {
    "name": "ipython",
    "version": 3
   },
   "file_extension": ".py",
   "mimetype": "text/x-python",
   "name": "python",
   "nbconvert_exporter": "python",
   "pygments_lexer": "ipython3",
   "version": "3.8.8"
  }
 },
 "nbformat": 4,
 "nbformat_minor": 5
}
