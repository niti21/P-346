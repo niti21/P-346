{
 "cells": [
  {
   "cell_type": "code",
   "execution_count": 1,
   "id": "2e928318-bc29-48b5-907e-21a0ccfea0a7",
   "metadata": {},
   "outputs": [],
   "source": [
    "import NSlib as ns\n",
    "import math\n",
    "import matplotlib.pylab as plt"
   ]
  },
  {
   "cell_type": "code",
   "execution_count": 3,
   "id": "bd74c9f7-7290-400d-abd4-229e6b455000",
   "metadata": {},
   "outputs": [
    {
     "name": "stdout",
     "output_type": "stream",
     "text": [
      "Dominant eigen value:  8.000362965767886\n",
      "Eigen vector:  [-0.19804046362820887, 0.6931229075933834, 0.6930805218264384, 9.915082405193478e-08]\n",
      "Iterations:  10\n"
     ]
    }
   ],
   "source": [
    "# QUESTION 6\n",
    "with open('a6.txt', 'r') as f:\n",
    "        a = [[int(num) for num in line.split(',')] for line in f]\n",
    "#print(a)\n",
    "\n",
    "x0 = [[1],[1],[1],[1]] #guess matrix\n",
    "EVal,EF,It = ns.Evalue(a, x0)\n",
    "print('Dominant eigen value: ',EVal)\n",
    "print('Eigen vector: ', EF)\n",
    "print('Iterations: ', It)"
   ]
  },
  {
   "cell_type": "code",
   "execution_count": 2,
   "id": "3ff8c598-e8ac-4776-b558-f598a43c406a",
   "metadata": {},
   "outputs": [
    {
     "name": "stdout",
     "output_type": "stream",
     "text": [
      "Determinant:  -0.32  ; Inverse exists!\n",
      "The inverse matrix: \n"
     ]
    },
    {
     "data": {
      "text/plain": [
       "[[0.082, -0.374, -0.276, 0.258, 0.377],\n",
       " [-0.097, -0.046, -0.052, -0.029, 0.23],\n",
       " [0.136, -0.054, -0.105, -0.052, 0.328],\n",
       " [0.233, 0.019, 0.271, -0.105, 0.229],\n",
       " [-0.116, 0.425, 0.396, 0.104, -0.626]]"
      ]
     },
     "execution_count": 2,
     "metadata": {},
     "output_type": "execute_result"
    }
   ],
   "source": [
    "# QUESTION 1\n",
    "\n",
    "a = ns.readMatrix('a1.txt')\n",
    "#print(a)\n",
    "\n",
    "n = len(a)\n",
    "\n",
    "ns.inverse_by_lu_decomposition (a, n)"
   ]
  },
  {
   "cell_type": "code",
   "execution_count": 4,
   "id": "47458a49-a927-4e42-adcd-961911b839b1",
   "metadata": {},
   "outputs": [
    {
     "data": {
      "image/png": "[encoded data removed]",
      "text/plain": [
       "<Figure size 432x288 with 1 Axes>"
      ]
     },
     "metadata": {
      "needs_background": "light"
     },
     "output_type": "display_data"
    },
    {
     "data": {
      "text/plain": [
       "([[1.0, 0.0, 0.0, 0.0, -9.216999999999992],\n",
       "  [0.0, 1.0, 0.0, 0.0, -122.42503999999998],\n",
       "  [0.0, 0.0, 1.0, 0.0, -30.812012800000023],\n",
       "  [0.0, 0.0, 0.0, 1.0, -354.52698675199997]],\n",
       " [0.23370226648351894,\n",
       "  -1.1937592138092286,\n",
       "  -0.4084737961691101,\n",
       "  -0.8025653910658183,\n",
       "  -98.29054222335999])"
      ]
     },
     "execution_count": 4,
     "metadata": {},
     "output_type": "execute_result"
    }
   ],
   "source": [
    "# QUESTION 7\n",
    "\n",
    "x,y=ns.readData('esem4fit.txt')\n",
    "#print(x,y)\n",
    "\n",
    "#Matrix returned after augmenting and gauss jordon\n",
    "#Polynomial square fit\n",
    "#degree =4\n",
    "ns.polySF(x,y,4)"
   ]
  },
  {
   "cell_type": "code",
   "execution_count": 5,
   "id": "c4eb877d-1b3b-49e0-a4fe-281dac880cd2",
   "metadata": {},
   "outputs": [
    {
     "name": "stdout",
     "output_type": "stream",
     "text": [
      "The time period of the pendulum:  2.087251039 seconds\n"
     ]
    }
   ],
   "source": [
    "# QUESTION 4\n",
    "\n",
    "# Define limits and other constants\n",
    "pi = 3.1415\n",
    "lims = [0, pi/2]\n",
    "a = math.sin(pi/8)\n",
    "g = 9.8\n",
    "L = 1\n",
    "\n",
    "# Define function for time period\n",
    "def tp(phi):\n",
    "    return 4 * math.sqrt(L/g) * 1/math.sqrt(1 - a**2 * math.sin(phi)**2)\n",
    "\n",
    "#Simpsons(f, l, u, n)\n",
    "# Solve for T using Simpson's method\n",
    "T = ns.Simpsons(tp,0,pi/2, 10)\n",
    "\n",
    "# Print the time period\n",
    "print(\"The time period of the pendulum: \",T, 'seconds')"
   ]
  },
  {
   "cell_type": "code",
   "execution_count": 21,
   "id": "d07ce029-1cab-455b-ae25-6b414f9d07bc",
   "metadata": {},
   "outputs": [
    {
     "name": "stdout",
     "output_type": "stream",
     "text": [
      "Root:  0.958586356728703\n",
      "No. of iterations: 4\n",
      "\n",
      "The max displacement will be when F(x) = 0 is at x = 0.958586356728703 m.\n"
     ]
    }
   ],
   "source": [
    "# QUESTION 3\n",
    "\n",
    "def f1(x):\n",
    "    y = 2.5 - x*math.exp(x)\n",
    "    return y\n",
    "\n",
    "def df1(x):\n",
    "    y = -1*(math.exp(x) + x*math.exp(x))\n",
    "    return y\n",
    "\n",
    "q=1\n",
    "tol=0.000001\n",
    "\n",
    "r = ns.newtonRaphson(f1,df1,q,tol)\n",
    "print()\n",
    "print('The max displacement will be when F(x) = 0 is at x =',r,'m.')"
   ]
  },
  {
   "cell_type": "code",
   "execution_count": 20,
   "id": "af089d46-49aa-44f1-89f3-7fb2c5afe5af",
   "metadata": {},
   "outputs": [
    {
     "data": {
      "image/png": "[encoded data removed]",
      "text/plain": [
       "<Figure size 432x288 with 1 Axes>"
      ]
     },
     "metadata": {
      "needs_background": "light"
     },
     "output_type": "display_data"
    }
   ],
   "source": [
    "# QUESTION 2\n",
    "\n",
    "nL=5000\n",
    "nR=0\n",
    "T=20000\n",
    "dT=1\n",
    "            \n",
    "NL,NR,NT=ns.prbRL(nL,nR,T,dT)\n",
    "\n",
    "plt.plot(NT,NL,'b,',label='No. of particles:Left')\n",
    "plt.plot(NT,NR,'r,',label='No. of particles:Right')\n",
    "plt.xlabel('Time')\n",
    "plt.ylabel('Number of particles')\n",
    "plt.legend()\n",
    "plt.show()"
   ]
  },
  {
   "cell_type": "code",
   "execution_count": 16,
   "id": "c903323e-3da3-446f-acb5-ef07ccb1f04e",
   "metadata": {},
   "outputs": [
    {
     "name": "stdout",
     "output_type": "stream",
     "text": [
      "Max height is 5.0 m.\n",
      "Variation of velocity with height with air resistance involved.\n"
     ]
    },
    {
     "data": {
      "text/plain": [
       "<matplotlib.collections.PathCollection at 0x1dec232fc40>"
      ]
     },
     "execution_count": 16,
     "metadata": {},
     "output_type": "execute_result"
    },
    {
     "data": {
      "image/png": "[encoded data removed]",
      "text/plain": [
       "<Figure size 432x288 with 1 Axes>"
      ]
     },
     "metadata": {
      "needs_background": "light"
     },
     "output_type": "display_data"
    }
   ],
   "source": [
    "# QUESTION 5\n",
    "\n",
    "def d2ydt2(t, y, v):\n",
    "    return -1*0.02*v - 10\n",
    "\n",
    "def dydt(t, y, v):\n",
    "    return v\n",
    "\n",
    "y0=0\n",
    "v0=10\n",
    "a0=10\n",
    "#FOR MAX HEIGHT REACHED\n",
    "h_max = (v0**2)/(2*10)\n",
    "\n",
    "print('Max height is',h_max,'m.')\n",
    "\n",
    "print('Variation of velocity with height with air resistance involved.')\n",
    "x0_1, y0_1, z0_1 = ns.RKsho(d2ydt2, dydt, y0, v0, a0, h_max, 0.1)\n",
    "x0_1, y0_1, z0_1 = ns.RKsho(d2ydt2, dydt, y0, v0, a0, h_max, 0.1)\n",
    "plt.scatter(x0_1, y0_1)"
   ]
  }
 ],
 "metadata": {
  "kernelspec": {
   "display_name": "Python 3",
   "language": "python",
   "name": "python3"
  },
  "language_info": {
   "codemirror_mode": {
    "name": "ipython",
    "version": 3
   },
   "file_extension": ".py",
   "mimetype": "text/x-python",
   "name": "python",
   "nbconvert_exporter": "python",
   "pygments_lexer": "ipython3",
   "version": "3.8.8"
  }
 },
 "nbformat": 4,
 "nbformat_minor": 5
}
