{
 "cells": [
  {
   "cell_type": "code",
   "execution_count": 11,
   "id": "761327ab-b99d-44aa-8f64-abd14fae0402",
   "metadata": {},
   "outputs": [
    {
     "name": "stdout",
     "output_type": "stream",
     "text": [
      "No. of iterations         Mid-point                 Trapezoidal               Simpson                  \n",
      "\n",
      "10                        3.618978894               3.62260838                3.620248168              \n",
      "20                        3.619880032               3.620793637               3.620188723              \n",
      "30                        3.620048812               3.620455388               3.620185179              \n",
      "\n"
     ]
    }
   ],
   "source": [
    "import NSlib as l\n",
    "import math \n",
    "import matplotlib.pyplot as plt\n",
    "import random\n",
    "\n",
    "#Question 1\n",
    "def f1(x):\n",
    "    y = math.sqrt(1+(1/x))\n",
    "    return(y)\n",
    "n1 = 10\n",
    "n2 = 20\n",
    "n3 = 30\n",
    "M1 = l.midpoint_method(1,4,n1,f1)\n",
    "M2 = l.midpoint_method(1,4,n2,f1)\n",
    "M3 = l.midpoint_method(1,4,n3,f1)\n",
    "T1 = l.trapezoidal(1,4,n1,f1)\n",
    "T2 = l.trapezoidal(1,4,n2,f1)\n",
    "T3 = l.trapezoidal(1,4,n3,f1)\n",
    "S1 = l.Simpsons(1,4,n1,f1)\n",
    "S2 = l.Simpsons(1,4,n2,f1)\n",
    "S3 = l.Simpsons(1,4,n3,f1)\n",
    "print (\"{:<25} {:<25} {:<25} {:<25}\".format('No. of iterations', 'Mid-point', 'Trapezoidal', 'Simpson'))\n",
    "print()\n",
    "print (\"{:<25} {:<25} {:<25} {:<25}\".format(n1, M1, T1, S1))\n",
    "print (\"{:<25} {:<25} {:<25} {:<25}\".format(n2, M2, T2, S2))\n",
    "print (\"{:<25} {:<25} {:<25} {:<25}\".format(n3, M3, T3, S3))\n",
    "print()\n"
   ]
  },
  {
   "cell_type": "code",
   "execution_count": 8,
   "id": "86461c95-ca4b-41ea-bf4d-5944751e06d9",
   "metadata": {},
   "outputs": [
    {
     "name": "stdout",
     "output_type": "stream",
     "text": [
      "The solution to the intergral is  0.5600935027796394\n",
      "\n"
     ]
    },
    {
     "data": {
      "image/png": "[encoded data removed]",
      "text/plain": [
       "<Figure size 432x288 with 1 Axes>"
      ]
     },
     "metadata": {
      "needs_background": "light"
     },
     "output_type": "display_data"
    }
   ],
   "source": [
    "# Question 2\n",
    "\n",
    "def f2(x):\n",
    "    y = (math.sin(x))**2\n",
    "    return(y)\n",
    "\n",
    "T = l.monte_carlo(-1,1,20,f2)\n",
    "print ('The solution to the intergral is ', T)\n",
    "print()\n",
    "i1= []\n",
    "tot = []\n",
    "p = []\n",
    "for i in range(10,600,10):\n",
    "    t1 = l.monte_carlo(-1,1,i, f2)\n",
    "    tot.append(t1)\n",
    "    i1.append(i)\n",
    "    p.append(0.54535)\n",
    "    \n",
    "plt.plot(i1,tot)\n",
    "plt.plot(i1,p)\n",
    "plt.show()"
   ]
  },
  {
   "cell_type": "code",
   "execution_count": 10,
   "id": "21a7276d-4bb5-432b-bff2-21a32adec2b4",
   "metadata": {},
   "outputs": [
    {
     "name": "stdout",
     "output_type": "stream",
     "text": [
      "The center of mass of the rod is  1.4999999998125\n"
     ]
    }
   ],
   "source": [
    "#Question 3\n",
    "#lambda(x) = x^2 ; C = ~xdm/~dm ; dm = lambda dx = x^2dx\n",
    "\n",
    "def dm(x):\n",
    "    return x*x\n",
    "def xdm(x):\n",
    "    return x*x*x\n",
    "\n",
    "#limit = [0,2]\n",
    "\n",
    "#Using simpsons method to solve the linear mass density integral\n",
    "\n",
    "a = l.Simpsons(0,2,10,dm)\n",
    "b = l.Simpsons(0,2,10,xdm)\n",
    "#print(a,b)\n",
    "C = b/a # Calculating centre of mass\n",
    "print ('The center of mass of the rod is ',C)"
   ]
  },
  {
   "cell_type": "code",
   "execution_count": null,
   "id": "7ca1a73e-2775-456f-808d-ba5e2ef1355d",
   "metadata": {},
   "outputs": [],
   "source": []
  }
 ],
 "metadata": {
  "kernelspec": {
   "display_name": "Python 3",
   "language": "python",
   "name": "python3"
  },
  "language_info": {
   "codemirror_mode": {
    "name": "ipython",
    "version": 3
   },
   "file_extension": ".py",
   "mimetype": "text/x-python",
   "name": "python",
   "nbconvert_exporter": "python",
   "pygments_lexer": "ipython3",
   "version": "3.8.8"
  }
 },
 "nbformat": 4,
 "nbformat_minor": 5
}
