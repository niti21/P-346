{
 "cells": [
  {
   "cell_type": "code",
   "execution_count": 1,
   "id": "606432ee-7a7c-4ee3-bbaa-c1d2a51abe69",
   "metadata": {},
   "outputs": [
    {
     "name": "stdout",
     "output_type": "stream",
     "text": [
      "Comparing Bisection vs Regula falsi\n",
      "\n",
      "Iteration : Bisection root : Regula falsi root\n",
      "1  :  2.105  :  2.259431348811099\n",
      "2  :  2.4074999999999998  :  2.6240823240517708\n",
      "3  :  2.55875  :  2.6231121547638465\n",
      "4  :  2.634375  :  2.623140345628176\n",
      "5  :  2.5965625  :  2.623140335436418\n",
      "6  :  2.61546875  :  -\n",
      "7  :  2.624921875  :  -\n",
      "8  :  2.6201953125  :  -\n",
      "9  :  2.62255859375  :  -\n",
      "10  :  2.623740234375  :  -\n",
      "11  :  2.6231494140625  :  -\n",
      "12  :  2.62285400390625  :  -\n",
      "13  :  2.6230017089843747  :  -\n",
      "14  :  2.6230755615234376  :  -\n",
      "15  :  2.6231124877929686  :  -\n",
      "16  :  2.6231309509277345  :  -\n",
      "17  :  2.623140182495117  :  -\n",
      "18  :  2.6231447982788083  :  -\n",
      "19  :  2.6231424903869627  :  -\n",
      "20  :  2.62314133644104  :  -\n",
      "21  :  2.6231407594680785  :  -\n",
      "\n",
      "Root from Bisection:  2.6231407594680785  in  21 iterations\n",
      "\n",
      "Root from Regula falsi:  2.623140335436418  in  5 iterations\n"
     ]
    }
   ],
   "source": [
    "import math\n",
    "import Rlib as l\n",
    "\n",
    "#QUESTION 1\n",
    "\n",
    "def f(q):\n",
    "    return (math.log(q/2) - math.sin((5*q)/2))\n",
    "\n",
    "a=1.5\n",
    "b=2.5\n",
    "tol = 0.000001\n",
    "q=1\n",
    "\n",
    "\n",
    "print('Comparing Bisection vs Regula falsi')\n",
    "print()\n",
    "print('Iteration : Bisection root : Regula falsi root')\n",
    "l.compare(f,a,b,tol)\n",
    "b1,cb=l.bisection(f,a,b,tol)\n",
    "print()\n",
    "print('Root from Bisection: ',b1, ' in ',cb, 'iterations')\n",
    "print()\n",
    "r,cr=l.regulaFalsi(f,a,b,tol)\n",
    "print('Root from Regula falsi: ',r, ' in ',cr, 'iterations')\n"
   ]
  },
  {
   "cell_type": "code",
   "execution_count": 2,
   "id": "ddd4c655-d532-46d5-8d10-891e9420595b",
   "metadata": {},
   "outputs": [
    {
     "name": "stdout",
     "output_type": "stream",
     "text": [
      "Root from Newton raphson:  -0.7390851332151607  in  5 iterations\n",
      "\n",
      "Root from Bisection:  -0.7390846368420356  in  22 iterations\n",
      "\n",
      "Root from Regula falsi:  -0.7390851304108029  in  7 iterations\n"
     ]
    }
   ],
   "source": [
    "#QUESTION 2\n",
    "\n",
    "def f(q):\n",
    "    return (-q - math.cos(q))\n",
    "def df(q):\n",
    "    return (-1 + math.sin(q))\n",
    "a=1.\n",
    "b=2.5\n",
    "tol = 0.000001\n",
    "q=0\n",
    "\n",
    "newt,it = l.newtonRaphson(f,df,q,tol)\n",
    "print('Root from Newton raphson: ',newt, ' in ',it, 'iterations')\n",
    "print()\n",
    "bis,ct1 = l.bisection(f,a,b,tol)\n",
    "print('Root from Bisection: ',bis, ' in ',ct1, 'iterations')\n",
    "print()\n",
    "reg,ct2 = l.regulaFalsi(f,a,b,tol)\n",
    "print('Root from Regula falsi: ',reg, ' in ',ct2, 'iterations')"
   ]
  },
  {
   "cell_type": "code",
   "execution_count": 3,
   "id": "a2702651-d58b-4811-b041-2944675b7db8",
   "metadata": {},
   "outputs": [
    {
     "name": "stdout",
     "output_type": "stream",
     "text": [
      "Laguerre Roots:\n",
      "Root:  -1.0\n",
      "Root:  -1.9999999997991764\n",
      "Root:  0.9999999991967063\n",
      "Root:  2.00000000060247\n"
     ]
    }
   ],
   "source": [
    "#QUESTION 3\n",
    "c = [1, 0, -5, 0, 4]\n",
    "print('Laguerre Roots:')\n",
    "l.laguerre(c,0,4)"
   ]
  },
  {
   "cell_type": "code",
   "execution_count": 4,
   "id": "a499161c-9678-4bfb-8043-2c9b845f0d13",
   "metadata": {},
   "outputs": [
    {
     "name": "stdout",
     "output_type": "stream",
     "text": [
      "The fitted matrix:  [0.5746586674196168, 4.725861442141896, -11.12821777764321, 7.66867762290942]\n"
     ]
    },
    {
     "data": {
      "image/png": "[encoded data removed]",
      "text/plain": [
       "<Figure size 432x288 with 1 Axes>"
      ]
     },
     "metadata": {
      "needs_background": "light"
     },
     "output_type": "display_data"
    }
   ],
   "source": [
    "#QUESTION 4\n",
    "\n",
    "import matplotlib.pyplot as plt\n",
    "with open('assign4fit.txt', 'r') as f1:\n",
    "    a = [[float(num) for num in line.split('\\t')] for line in f1 ]\n",
    "\n",
    "X=[]\n",
    "Y=[]\n",
    "\n",
    "for i in range(0,len(a)):\n",
    "    X.append(a[i][0])\n",
    "    Y.append(a[i][1])\n",
    "print('The fitted matrix: ',l.polySF(X,Y,4))"
   ]
  }
 ],
 "metadata": {
  "kernelspec": {
   "display_name": "Python 3",
   "language": "python",
   "name": "python3"
  },
  "language_info": {
   "codemirror_mode": {
    "name": "ipython",
    "version": 3
   },
   "file_extension": ".py",
   "mimetype": "text/x-python",
   "name": "python",
   "nbconvert_exporter": "python",
   "pygments_lexer": "ipython3",
   "version": "3.8.8"
  }
 },
 "nbformat": 4,
 "nbformat_minor": 5
}
