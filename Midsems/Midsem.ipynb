{
 "cells": [
  {
   "cell_type": "code",
   "execution_count": 53,
   "id": "766d566c-7a94-4239-bb12-55e37c2b4a06",
   "metadata": {},
   "outputs": [
    {
     "name": "stdout",
     "output_type": "stream",
     "text": [
      "Area of the ellipse is: \n",
      "6.28576\n",
      "Error in Area =:  0.040977508931203166 %\n"
     ]
    }
   ],
   "source": [
    "import NSlib as l\n",
    "import math\n",
    "\n",
    "#Question 1\n",
    "\n",
    "def lcgarea(p,q):  #for area\n",
    "    n = 0\n",
    "    t = 0\n",
    "    #for dimensions\n",
    "    for i in range(0,50000):\n",
    "        x = l.lcg(1103515245, 12345, 32768, p)\n",
    "        p=x\n",
    "\n",
    "        y = l.lcg(1103515245, 12345, 32768, q)\n",
    "        q=y\n",
    "\n",
    "        #Calculating radius\n",
    "        n = n + 1\n",
    "        rad = math.sqrt((x*x)+(y*y))\n",
    "\n",
    "        if rad < 1:\n",
    "            t = t + 1\n",
    "    #Calculating area\n",
    "    pi = 4*(t/n)\n",
    "    ar = pi*1*2\n",
    "    print('Area of the ellipse is: ')\n",
    "    return ar\n",
    "Ar=math.pi*1*2\n",
    "#defining seeds\n",
    "p=10\n",
    "q=20\n",
    "ar=lcgarea(p,q)\n",
    "print(ar)\n",
    "er=((ar-Ar)/Ar)*100\n",
    "print('Error in Area =: ',er,'%')\n"
   ]
  },
  {
   "cell_type": "code",
   "execution_count": 17,
   "id": "1798b2bf-2ba2-4921-9d77-10077785f82d",
   "metadata": {},
   "outputs": [
    {
     "name": "stdout",
     "output_type": "stream",
     "text": [
      "Root:  1.0000000012926376\n",
      "No. of iterations: 6\n",
      "1.4394E-02\n"
     ]
    }
   ],
   "source": [
    "#Question2\n",
    "\n",
    "# Since (x-5)e^x+5=x*log(x-5)+log(5)=x*logx\n",
    "#defining given values\n",
    "h=6.626*(10**(-34))\n",
    "c=3*(10**(8))\n",
    "k=1.381*(10**(-23))\n",
    "\n",
    "#initial guess\n",
    "q=20\n",
    "tol = 0.0001\n",
    "x=l.newtonRaphson(q,tol)\n",
    "\n",
    "if x > 0.0:\n",
    "    b = (h*c)/(x*k)\n",
    "else:\n",
    "    x=l.newtonRaphson(q+10,tol)\n",
    "print('%10.4E' %b)\n"
   ]
  },
  {
   "cell_type": "code",
   "execution_count": 1,
   "id": "cfc3c5e3-c5f9-4ef0-945b-0c29309044eb",
   "metadata": {},
   "outputs": [
    {
     "name": "stdout",
     "output_type": "stream",
     "text": [
      "\n",
      "Gauss seidel result:  [1.5, -0.5, 2.0, -2.5, 1.0, -1.0] ; no. of iterations:  11\n"
     ]
    }
   ],
   "source": [
    "\n",
    "#Question3\n",
    "\n",
    "with open('a3.txt', 'r') as f1:\n",
    "    a3 = [[float(num) for num in line.split(',')] for line in f1 ]\n",
    "#print(a3)\n",
    "#print()\n",
    "b3 = open('b3.txt', 'r')\n",
    "b= b3.read().split(',')\n",
    "for i in range(0,len(b)):\n",
    "    b[i]=float(b[i])\n",
    "#print(b)\n",
    "x=[1,1,1,1,1,1]\n",
    "tol= 0.000001\n",
    "l.GaussSeidel(a3,x,b,100,tol)"
   ]
  },
  {
   "cell_type": "code",
   "execution_count": 41,
   "id": "79ba53c2-3343-4701-80bf-72d73412e831",
   "metadata": {},
   "outputs": [
    {
     "name": "stdout",
     "output_type": "stream",
     "text": [
      "The Slope and intercept are:  -0.42256186317321687  and  11.505618631732167\n",
      "R^2 is:  0.7999224586518913\n"
     ]
    }
   ],
   "source": [
    "#Question 4\n",
    "\n",
    "a4 = open('X4.txt', 'r')\n",
    "x= a4.read().split(',')\n",
    "for i in range(0,len(x)):\n",
    "    x[i]=float(x[i])\n",
    "#print(x)\n",
    "b4 = open('Y4.txt', 'r')\n",
    "y= b4.read().split(',')\n",
    "for i in range(0,len(y)):\n",
    "    y[i]=float(y[i])\n",
    "#print(y)\n",
    "#For sigma\n",
    "s=[]\n",
    "for i in range(0,len(x)):\n",
    "    s.append(1) \n",
    "#print(s) \n",
    "a1,a2,R=l.linear_fit(x,y,s)\n",
    "print('The Slope and intercept are: ',a1,' and ',a2)\n",
    "print('R^2 is: ', R)"
   ]
  }
 ],
 "metadata": {
  "kernelspec": {
   "display_name": "Python 3",
   "language": "python",
   "name": "python3"
  },
  "language_info": {
   "codemirror_mode": {
    "name": "ipython",
    "version": 3
   },
   "file_extension": ".py",
   "mimetype": "text/x-python",
   "name": "python",
   "nbconvert_exporter": "python",
   "pygments_lexer": "ipython3",
   "version": "3.8.8"
  }
 },
 "nbformat": 4,
 "nbformat_minor": 5
}
