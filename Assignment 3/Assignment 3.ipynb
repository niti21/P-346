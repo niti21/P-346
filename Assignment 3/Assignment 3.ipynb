{
 "cells": [
  {
   "cell_type": "code",
   "execution_count": 1,
   "id": "93ccf86f",
   "metadata": {},
   "outputs": [],
   "source": [
    "import NSlib as lib\n",
    "import math"
   ]
  },
  {
   "cell_type": "code",
   "execution_count": 2,
   "id": "5b7656bc",
   "metadata": {},
   "outputs": [
    {
     "name": "stdout",
     "output_type": "stream",
     "text": [
      "[[1, -1, 4, 0, 2, 9], [0, 5, -2, 7, 8, 4], [1, 0, 5, 7, 3, -2], [6, -1, 2, 3, 0, 8], [-4, 2, 0, 5, -5, 3], [0, 7, -1, 5, 4, -2]]\n",
      "\n",
      "[19, 2, 13, -7, -9, 2]\n"
     ]
    },
    {
     "data": {
      "text/plain": [
       "[-1.7618170439978567,\n",
       " 0.8962280338740136,\n",
       " 4.051931404116157,\n",
       " -1.6171308025395428,\n",
       " 2.041913538501914,\n",
       " 0.15183248715593495]"
      ]
     },
     "execution_count": 2,
     "metadata": {},
     "output_type": "execute_result"
    }
   ],
   "source": [
    "#Q1 with Gauss jordan\n",
    "\n",
    "with open('a1.txt', 'r') as f1:\n",
    "    a = [[int(num) for num in line.split(',')] for line in f1 ]\n",
    "print(a)\n",
    "print()\n",
    "b1 = open('b1.txt', 'r')\n",
    "b= b1.read().split(',')\n",
    "for i in range(0,len(b)):\n",
    "    b[i]=int(b[i])\n",
    "print(b)\n",
    "\n",
    "lib.gauss_jordan(a,b)"
   ]
  },
  {
   "cell_type": "code",
   "execution_count": 3,
   "id": "b55bb9f1",
   "metadata": {},
   "outputs": [
    {
     "name": "stdout",
     "output_type": "stream",
     "text": [
      "[[1.0, -1.0, 4.0, 0.0, 2.0, 9.0], [0.0, 5.0, -2.0, 7.0, 8.0, 4.0], [1.0, 0.0, 5.0, 7.0, 3.0, -2.0], [6.0, -1.0, 2.0, 3.0, 0.0, 8.0], [-4.0, 2.0, 0.0, 5.0, -5.0, 3.0], [0.0, 7.0, -1.0, 5.0, 4.0, -2.0]]\n",
      "\n",
      "[19.0, 2.0, 13.0, -7.0, -9.0, 2.0]\n",
      "\n",
      "Lower triangle:\n",
      "[[1, 0, 0, 0, 0, 0], [0.0, 1, 0, 0, 0, 0], [1.0, 0.2, 1, 0, 0, 0], [6.0, 1.0, -14.2857, 1, 0, 0], [-4.0, -0.4, 10.8571, -0.6974, 1, 0], [0.0, 1.4, 1.2857, -0.1579, 1.517, 1]]\n",
      "\n",
      "Upper triangle:\n",
      "[[1.0, -1.0, 4.0, 0.0, 2.0, 9.0], [0, 5.0, -2.0, 7.0, 8.0, 4.0], [0, 0, 1.4, 5.6, -0.6, -11.8], [0, 0, 0, 75.9999, -28.5714, -218.5713], [0, 0, 0, 0, -7.2114, 16.2822], [0, 0, 0, 0, 0, -51.6412]]\n",
      "\n",
      "After forward subsitution, Matrix is: \n",
      " [19.0, 2.0, -6.4, -214.4285, -12.257, -7.8359]\n",
      "\n",
      "After backward subsitution, the answer matrix is: \n",
      " [-1.7614, 0.8963, 4.052, -1.6174, 2.0422, 0.1517]\n"
     ]
    }
   ],
   "source": [
    "#Q1 with LUD\n",
    "with open('a1.txt', 'r') as f1:\n",
    "    a = [[float(num) for num in line.split(',')] for line in f1 ]\n",
    "print (a)\n",
    "print()\n",
    "b1 = open('b1.txt', 'r')\n",
    "b= b1.read().split(',')\n",
    "for i in range(0,len(b)):\n",
    "    b[i]=float(b[i])\n",
    "print(b)\n",
    "    \n",
    "#finding the L and U using library function\n",
    "L1,U1=lib.lud(a)\n",
    "\n",
    "#forward subsitutuion\n",
    "y=lib.forwardsub(L1,b)\n",
    "print('After forward subsitution, Matrix is: \\n', y)\n",
    "\n",
    "\n",
    "#backward subsitution\n",
    "z=lib.backwardsub(U1,y)\n",
    "print('After backward subsitution, the answer matrix is: \\n',z)\n"
   ]
  },
  {
   "cell_type": "code",
   "execution_count": 4,
   "id": "0e3113e9",
   "metadata": {},
   "outputs": [
    {
     "name": "stdout",
     "output_type": "stream",
     "text": [
      "[[4, -1, 0, -1, 0, 0], [-1, 4, -1, 0, -1, 0], [0, -1, 4, 0, 0, -1], [-1, 0, 0, 4, -1, 0], [0, -1, 0, -1, 4, -1], [0, 0, -1, 0, -1, 4]]\n",
      "[2.0, 1.0, 2.0, 2.0, 1.0, 2.0]\n",
      "1 : [6.5, 7.875, 5.4688, 5.125, 6.5, 3.4922]\n",
      "2 : [3.75, 4.1797, 2.418, 3.0625, 2.9336, 1.8379]\n",
      "3 : [2.3106, 2.1656, 1.5009, 1.8111, 1.7037, 1.3011]\n",
      "4 : [1.4942, 1.4247, 1.1814, 1.2995, 1.2563, 1.1094]\n",
      "5 : [1.181, 1.1547, 1.066, 1.1093, 1.0934, 1.0398]\n",
      "6 : [1.066, 1.0563, 1.024, 1.0398, 1.034, 1.0145]\n",
      "7 : [1.024, 1.0205, 1.0088, 1.0145, 1.0124, 1.0053]\n",
      "8 : [1.0088, 1.0075, 1.0032, 1.0053, 1.0045, 1.0019]\n",
      "9 : [1.0032, 1.0027, 1.0011, 1.0019, 1.0016, 1.0007]\n",
      "10 : [1.0011, 1.001, 1.0004, 1.0007, 1.0006, 1.0002]\n",
      "11 : [1.0004, 1.0004, 1.0002, 1.0002, 1.0002, 1.0001]\n",
      "12 : [1.0002, 1.0002, 1.0001, 1.0001, 1.0001, 1.0]\n",
      "13 : [1.0001, 1.0001, 1.0, 1.0, 1.0, 1.0]\n",
      "14 : [1.0, 1.0, 1.0, 1.0, 1.0, 1.0]\n",
      "15 : [1.0, 1.0, 1.0, 1.0, 1.0, 1.0]\n",
      "\n",
      "Gauss seidel result:  [1.0, 1.0, 1.0, 1.0, 1.0, 1.0] ; no. of iterations:  15\n"
     ]
    }
   ],
   "source": [
    "#Q2 with Gauss seidel\n",
    "with open('a2.txt', 'r') as x1:\n",
    "    m = [[int(g) for g in line.split(',')] for line in x1]\n",
    "print(m) \n",
    "b2 = open('b2.txt', 'r')\n",
    "b= b2.read().split(',')\n",
    "for i in range(0,len(b)):\n",
    "    b[i]=float(b[i])\n",
    "print(b)\n",
    "#guess taken\n",
    "x=[12,12,12,12,12,12]\n",
    "\n",
    "lib.GaussSeidel(m,x,b,1000,0.000001)"
   ]
  },
  {
   "cell_type": "code",
   "execution_count": 5,
   "id": "a8bdee48",
   "metadata": {},
   "outputs": [
    {
     "name": "stdout",
     "output_type": "stream",
     "text": [
      "[[4, -1, 0, -1, 0, 0], [-1, 4, -1, 0, -1, 0], [0, -1, 4, 0, 0, -1], [-1, 0, 0, 4, -1, 0], [0, -1, 0, -1, 4, -1], [0, 0, -1, 0, -1, 4]]\n",
      "\n",
      "[2.0, 1.0, 2.0, 2.0, 1.0, 2.0]\n",
      "\n",
      "Matrix is Symmetric!\n",
      "\n",
      "Cholesky Decomposed matrix: \n",
      "[[2.0, 0, 0, 0, 0, 0], [-0.5, 1.9365, 0, 0, 0, 0], [0.0, -0.5164, 1.9322, 0, 0, 0], [-0.5, -0.1291, -0.0345, 1.9319, 0, 0], [0.0, -0.5164, -0.138, -0.5546, 1.8457, 0], [0.0, 0.0, -0.5175, -0.0093, -0.5833, 1.8417]]\n",
      "\n",
      "Transpose of the decomposed matrix:\n",
      "[[2.0, -0.5, 0.0, -0.5, 0.0, 0.0], [0, 1.9365, -0.5164, -0.1291, -0.5164, 0.0], [0, 0, 1.9322, -0.0345, -0.138, -0.5175], [0, 0, 0, 1.9319, -0.5546, -0.0093], [0, 0, 0, 0, 1.8457, -0.5833], [0, 0, 0, 0, 0, 1.8417]]\n",
      "\n",
      "\n",
      "After forward subsitution Matrix Y is: \n",
      " [1.0, 0.5164, 1.0351, 1.0353, 0.5418, 1.086]\n",
      "\n",
      "After backward subsitution the answer matrix X is: \n",
      " [0.8284, 0.6371, 0.74, 0.6765, 0.4799, 0.5897]\n"
     ]
    }
   ],
   "source": [
    "#Q2 with cholesky decomposition\n",
    "with open('a2.txt', 'r') as x1:\n",
    "    m = [[int(g) for g in line.split(',')] for line in x1]\n",
    "print(m) \n",
    "print()\n",
    "b2 = open('b2.txt', 'r')\n",
    "b= b2.read().split(',')\n",
    "for i in range(0,len(b)):\n",
    "    b[i]=float(b[i])\n",
    "print(b)\n",
    "print()\n",
    "#cholesky decomposition\n",
    "m,mt = lib.cholesky(m)\n",
    "print()\n",
    "\n",
    "#forward subsitution\n",
    "k1=lib.forwardsub(m,b)\n",
    "print('After forward subsitution Matrix Y is: \\n', k1)\n",
    "\n",
    "\n",
    "#backward subsitution\n",
    "k2=lib.backwardsub(mt,k1)\n",
    "print('After backward subsitution the answer matrix X is: \\n',k2)\n"
   ]
  },
  {
   "cell_type": "code",
   "execution_count": 6,
   "id": "3f693ed8",
   "metadata": {},
   "outputs": [
    {
     "name": "stdout",
     "output_type": "stream",
     "text": [
      "[[4, 0, 4, 10, 1], [0, 4, 2, 0, 1], [2, 5, 1, 3, 13], [11, 3, 0, 1, 2], [3, 2, 7, 1, 0]]\n",
      "\n",
      "[20, 15, 92, 51, 15]\n",
      "Guess: \n",
      " [1, 1, 1, 1, 1]\n",
      "\n",
      " Jacobi Calculations: \n",
      "\n",
      "1 . [4.0909, 3.0, -0.6104, 0.5078, 5.2235]\n",
      "2 . [2.8223, 2.7493, 0.0752, 0.3187, 5.506]\n",
      "3 . [2.8565, 2.3359, 0.2057, 0.2245, 5.6714]\n",
      "4 . [2.9477, 2.2293, 0.2105, 0.1696, 5.7107]\n",
      "5 . [2.9746, 2.2171, 0.2103, 0.155, 5.7146]\n",
      "6 . [2.9786, 2.2162, 0.211, 0.1527, 5.7148]\n",
      "7 . [2.979, 2.2158, 0.2112, 0.1524, 5.715]\n",
      "8 . [2.9791, 2.2157, 0.2113, 0.1523, 5.715]\n",
      "9 . [2.9791, 2.2156, 0.2113, 0.1523, 5.715]\n",
      "10 . [2.9792, 2.2156, 0.2113, 0.1523, 5.715]\n",
      "11 . [2.9792, 2.2156, 0.2113, 0.1523, 5.715]\n",
      "Jacobi result: \n",
      " [2.9792, 2.2156, 0.2113, 0.1523, 5.715] \n",
      " after 11 iterations.\n",
      "\n",
      "1 : [4.0909, 3.0, -0.6104, 0.5078, 5.2235]\n",
      "2 : [2.8223, 2.7493, 0.0752, 0.3187, 5.506]\n",
      "3 : [2.8565, 2.3359, 0.2057, 0.2245, 5.6714]\n",
      "4 : [2.9477, 2.2293, 0.2105, 0.1696, 5.7107]\n",
      "5 : [2.9746, 2.2171, 0.2103, 0.155, 5.7146]\n",
      "6 : [2.9786, 2.2162, 0.211, 0.1527, 5.7148]\n",
      "7 : [2.979, 2.2158, 0.2112, 0.1524, 5.715]\n",
      "8 : [2.9791, 2.2157, 0.2113, 0.1523, 5.715]\n",
      "9 : [2.9791, 2.2156, 0.2113, 0.1523, 5.715]\n",
      "10 : [2.9792, 2.2156, 0.2113, 0.1523, 5.715]\n",
      "11 : [2.9792, 2.2156, 0.2113, 0.1523, 5.715]\n",
      "\n",
      "Gauss seidel result:  [2.9792, 2.2156, 0.2113, 0.1523, 5.715] ; no. of iterations:  11\n"
     ]
    }
   ],
   "source": [
    "#Q3 JACOBI & GAUSS-SEIDEL\n",
    "\n",
    "with open('a3.txt', 'r') as f1:\n",
    "    lq3 = [[int(num) for num in line.split(',')] for line in f1 ]\n",
    "print(lq3)\n",
    "print()\n",
    "b3 = open('b3.txt', 'r')\n",
    "b= b3.read().split(',')\n",
    "for i in range(0,len(b)):\n",
    "    b[i]=int(b[i])\n",
    "print(b)\n",
    "lq31,kq31=lib.DiagDom(lq3,b)\n",
    "kq311=[]\n",
    "for i in range(0,len(kq31)):\n",
    "    kq311.append(kq31[i])\n",
    "\n",
    "\n",
    "\n",
    "x= [1]*len(kq311)\n",
    "\n",
    "print(\"Guess: \\n\",x)\n",
    "print()\n",
    "lib.jacobi(lq31,kq311,100,0.000001)\n",
    "print()\n",
    "lib.GaussSeidel(lq31,x,kq311,1000,0.000001)\n"
   ]
  },
  {
   "cell_type": "code",
   "execution_count": 7,
   "id": "7f5fd653",
   "metadata": {},
   "outputs": [
    {
     "name": "stdout",
     "output_type": "stream",
     "text": [
      "[[4, 0, 4, 10, 1], [0, 4, 2, 0, 1], [2, 5, 1, 3, 13], [11, 3, 0, 1, 2], [3, 2, 7, 1, 0]]\n",
      "\n",
      "[20, 15, 92, 51, 15]\n",
      "\n",
      "Lower triangle:\n",
      "[[1, 0, 0, 0, 0], [0.0, 1, 0, 0, 0], [0.5, 1.25, 1, 0, 0], [2.75, 0.75, 3.5714, 1, 0], [0.75, 0.5, -0.8571, 0.4243, 1]]\n",
      "\n",
      "Upper triangle:\n",
      "[[4, 0, 4, 10, 1], [0, 4.0, 2.0, 0.0, 1.0], [0, 0, -3.5, -2.0, 11.25], [0, 0, 0, -19.3572, -41.6782], [0, 0, 0, 0, 26.0764]]\n",
      "\n",
      "After forward subsitution Matrix Y is: \n",
      " [20.0, 15.0, 63.25, -241.1411, 149.0277]\n",
      "\n",
      "After backward subsitution the answer matrix X is: \n",
      " [2.9791, 2.2157, 0.2111, 0.1524, 5.715]\n"
     ]
    }
   ],
   "source": [
    "#Q3 LU DECOMPOSITION\n",
    "\n",
    "with open('a3.txt', 'r') as f1:\n",
    "    lq3 = [[int(num) for num in line.split(',')] for line in f1 ]\n",
    "print(lq3)\n",
    "print()\n",
    "b3 = open('b3.txt', 'r')\n",
    "b= b3.read().split(',')\n",
    "for i in range(0,len(b)):\n",
    "    b[i]=int(b[i])\n",
    "print(b)\n",
    "\n",
    "L3,U3=lib.lud(lq3)\n",
    "\n",
    "kq31=lib.forwardsub(L3,b)\n",
    "print('After forward subsitution Matrix Y is: \\n', kq31)\n",
    "\n",
    "kq32=lib.backwardsub(U3,kq31)\n",
    "print('After backward subsitution the answer matrix X is: \\n',kq32)\n"
   ]
  }
 ],
 "metadata": {
  "kernelspec": {
   "display_name": "Python 3",
   "language": "python",
   "name": "python3"
  },
  "language_info": {
   "codemirror_mode": {
    "name": "ipython",
    "version": 3
   },
   "file_extension": ".py",
   "mimetype": "text/x-python",
   "name": "python",
   "nbconvert_exporter": "python",
   "pygments_lexer": "ipython3",
   "version": "3.8.8"
  }
 },
 "nbformat": 4,
 "nbformat_minor": 5
}
